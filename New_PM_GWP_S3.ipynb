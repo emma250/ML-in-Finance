{
  "cells": [
    {
      "cell_type": "markdown",
      "metadata": {
        "id": "view-in-github",
        "colab_type": "text"
      },
      "source": [
        "<a href=\"https://colab.research.google.com/github/emma250/ML-in-Finance-G09/blob/main/New_PM_GWP_S3.ipynb\" target=\"_parent\"><img src=\"https://colab.research.google.com/assets/colab-badge.svg\" alt=\"Open In Colab\"/></a>"
      ]
    },
    {
      "cell_type": "markdown",
      "metadata": {
        "id": "YFZtZlQN-bUy"
      },
      "source": [
        "# Best Portfolio Selection using Machine Learning\n"
      ]
    },
    {
      "cell_type": "markdown",
      "metadata": {
        "id": "UJKhI8o_cNWw"
      },
      "source": [
        "Portfolio optimization and machine learning are two things we'll address in this submission. Here, we'll apply machine learning concepts of denoising, clustering, and backtesting to optimize a portfolio.That gives us a great view into how machine learning can help optimize portfolios on backtested security data which were taken from trusted sources."
      ]
    },
    {
      "cell_type": "markdown",
      "metadata": {
        "id": "zemv8pj3-bU5"
      },
      "source": [
        "## Required Packages"
      ]
    },
    {
      "cell_type": "markdown",
      "metadata": {
        "id": "uekaCFl5cRtq"
      },
      "source": [
        "```\n",
        "packages used to get the data and analysis\n",
        "```"
      ]
    },
    {
      "cell_type": "code",
      "execution_count": null,
      "metadata": {
        "id": "dIGFOcN2cTI6"
      },
      "outputs": [],
      "source": [
        "!pip install PyPortfolioOpt --quiet\n",
        "!pip install --upgrade pandas --quiet\n",
        "!pip install --upgrade pandas-datareader --quiet"
      ]
    },
    {
      "cell_type": "code",
      "execution_count": null,
      "metadata": {
        "id": "vgxNK5tz-bU6"
      },
      "outputs": [],
      "source": [
        "import sys\n",
        "import datetime\n",
        "import numpy as np\n",
        "import matplotlib as mpl\n",
        "import matplotlib.pyplot as plt\n",
        "import seaborn as sns\n",
        "import pandas as pd\n",
        "from pandas_datareader import data\n",
        "import sklearn\n",
        "from scipy import stats\n",
        "\n",
        "plt.rcParams['figure.figsize'] = (8, 8)\n"
      ]
    },
    {
      "cell_type": "markdown",
      "metadata": {
        "id": "4dWLF0rS-bU_"
      },
      "source": [
        "## Prepare dataset"
      ]
    },
    {
      "cell_type": "code",
      "execution_count": null,
      "metadata": {
        "id": "el76EBnnzF50"
      },
      "outputs": [],
      "source": [
        "stock_dict = {\n",
        "    'Microsoft': 'MSFT',\n",
        "    'Apple': 'AAPL',\n",
        "    'Alibaba Group': 'BABA',\n",
        "    'Tsla Inc': 'TSLA',\n",
        "    'IBM': 'IBM',\n",
        "}"
      ]
    },
    {
      "cell_type": "code",
      "execution_count": null,
      "metadata": {
        "colab": {
          "base_uri": "https://localhost:8080/"
        },
        "id": "WPcYw75O-bVB",
        "outputId": "03f2aba6-7154-42bf-fc34-b719ad895bc6"
      },
      "outputs": [
        {
          "name": "stdout",
          "output_type": "stream",
          "text": [
            "[('Apple', 'AAPL'), ('Alibaba Group', 'BABA'), ('IBM', 'IBM'), ('Microsoft', 'MSFT'), ('Tsla Inc', 'TSLA')]\n"
          ]
        }
      ],
      "source": [
        "stocks = sorted(stock_dict.items(), key=lambda x: x[1])\n",
        "print(stocks)"
      ]
    },
    {
      "cell_type": "code",
      "execution_count": null,
      "metadata": {
        "colab": {
          "base_uri": "https://localhost:8080/"
        },
        "id": "NzIvlnX2-bVD",
        "outputId": "a3372b22-e6bc-4de4-c2d9-4ce414d1ba52"
      },
      "outputs": [
        {
          "data": {
            "text/plain": [
              "['AAPL', 'BABA', 'IBM', 'MSFT', 'TSLA']"
            ]
          },
          "execution_count": 5,
          "metadata": {},
          "output_type": "execute_result"
        }
      ],
      "source": [
        "stock_sorted = [x[1] for x in stocks]\n",
        "stock_sorted"
      ]
    },
    {
      "cell_type": "code",
      "execution_count": null,
      "metadata": {
        "colab": {
          "base_uri": "https://localhost:8080/"
        },
        "id": "lb7Z1MTB-bVE",
        "outputId": "9e5f6f68-7766-43c4-d257-498843dea4c9"
      },
      "outputs": [
        {
          "name": "stdout",
          "output_type": "stream",
          "text": [
            "[DatetimeIndex(['2020-01-02', '2020-01-03', '2020-01-06', '2020-01-07',\n",
            "               '2020-01-08', '2020-01-09', '2020-01-10', '2020-01-13',\n",
            "               '2020-01-14', '2020-01-15',\n",
            "               ...\n",
            "               '2022-08-22', '2022-08-23', '2022-08-24', '2022-08-25',\n",
            "               '2022-08-26', '2022-08-29', '2022-08-30', '2022-08-31',\n",
            "               '2022-09-01', '2022-09-02'],\n",
            "              dtype='datetime64[ns]', name='Date', length=674, freq=None), MultiIndex([('Adj Close', 'AAPL'),\n",
            "            ('Adj Close', 'BABA'),\n",
            "            ('Adj Close',  'IBM'),\n",
            "            ('Adj Close', 'MSFT'),\n",
            "            ('Adj Close', 'TSLA'),\n",
            "            (    'Close', 'AAPL'),\n",
            "            (    'Close', 'BABA'),\n",
            "            (    'Close',  'IBM'),\n",
            "            (    'Close', 'MSFT'),\n",
            "            (    'Close', 'TSLA'),\n",
            "            (     'High', 'AAPL'),\n",
            "            (     'High', 'BABA'),\n",
            "            (     'High',  'IBM'),\n",
            "            (     'High', 'MSFT'),\n",
            "            (     'High', 'TSLA'),\n",
            "            (      'Low', 'AAPL'),\n",
            "            (      'Low', 'BABA'),\n",
            "            (      'Low',  'IBM'),\n",
            "            (      'Low', 'MSFT'),\n",
            "            (      'Low', 'TSLA'),\n",
            "            (     'Open', 'AAPL'),\n",
            "            (     'Open', 'BABA'),\n",
            "            (     'Open',  'IBM'),\n",
            "            (     'Open', 'MSFT'),\n",
            "            (     'Open', 'TSLA'),\n",
            "            (   'Volume', 'AAPL'),\n",
            "            (   'Volume', 'BABA'),\n",
            "            (   'Volume',  'IBM'),\n",
            "            (   'Volume', 'MSFT'),\n",
            "            (   'Volume', 'TSLA')],\n",
            "           names=['Attributes', 'Symbols'])]\n"
          ]
        }
      ],
      "source": [
        "# Define which online source to use\n",
        "data_source = 'yahoo'\n",
        "\n",
        "# Define the start and end dates\n",
        "start_date = '2020-01-01'\n",
        "end_date = '2022-09-04'\n",
        "\n",
        "#  Use pandas_reader.data.DataReader to load the desired stock data\n",
        "panel_data = data.DataReader(stock_sorted, data_source, start_date, end_date).unstack().unstack().T\n",
        "\n",
        "# Print Axes labels\n",
        "print(panel_data.axes)"
      ]
    },
    {
      "cell_type": "code",
      "execution_count": null,
      "metadata": {
        "colab": {
          "base_uri": "https://localhost:8080/",
          "height": 455
        },
        "id": "KzSfF8Euc_Pb",
        "outputId": "ecf695f2-cacb-4d8d-b87d-b22ea1d6c25e"
      },
      "outputs": [
        {
          "data": {
            "text/html": [
              "\n",
              "  <div id=\"df-95c83526-ed5c-48cc-b304-9fc84928ecbd\">\n",
              "    <div class=\"colab-df-container\">\n",
              "      <div>\n",
              "<style scoped>\n",
              "    .dataframe tbody tr th:only-of-type {\n",
              "        vertical-align: middle;\n",
              "    }\n",
              "\n",
              "    .dataframe tbody tr th {\n",
              "        vertical-align: top;\n",
              "    }\n",
              "\n",
              "    .dataframe thead th {\n",
              "        text-align: right;\n",
              "    }\n",
              "</style>\n",
              "<table border=\"1\" class=\"dataframe\">\n",
              "  <thead>\n",
              "    <tr style=\"text-align: right;\">\n",
              "      <th>Symbols</th>\n",
              "      <th>AAPL</th>\n",
              "      <th>BABA</th>\n",
              "      <th>IBM</th>\n",
              "      <th>MSFT</th>\n",
              "      <th>TSLA</th>\n",
              "    </tr>\n",
              "    <tr>\n",
              "      <th>Date</th>\n",
              "      <th></th>\n",
              "      <th></th>\n",
              "      <th></th>\n",
              "      <th></th>\n",
              "      <th></th>\n",
              "    </tr>\n",
              "  </thead>\n",
              "  <tbody>\n",
              "    <tr>\n",
              "      <th>2020-01-02</th>\n",
              "      <td>75.087502</td>\n",
              "      <td>219.770004</td>\n",
              "      <td>129.464630</td>\n",
              "      <td>160.619995</td>\n",
              "      <td>28.684000</td>\n",
              "    </tr>\n",
              "    <tr>\n",
              "      <th>2020-01-03</th>\n",
              "      <td>74.357498</td>\n",
              "      <td>217.000000</td>\n",
              "      <td>128.432129</td>\n",
              "      <td>158.619995</td>\n",
              "      <td>29.534000</td>\n",
              "    </tr>\n",
              "    <tr>\n",
              "      <th>2020-01-06</th>\n",
              "      <td>74.949997</td>\n",
              "      <td>216.639999</td>\n",
              "      <td>128.202682</td>\n",
              "      <td>159.029999</td>\n",
              "      <td>30.102667</td>\n",
              "    </tr>\n",
              "    <tr>\n",
              "      <th>2020-01-07</th>\n",
              "      <td>74.597504</td>\n",
              "      <td>217.630005</td>\n",
              "      <td>128.288712</td>\n",
              "      <td>157.580002</td>\n",
              "      <td>31.270666</td>\n",
              "    </tr>\n",
              "    <tr>\n",
              "      <th>2020-01-08</th>\n",
              "      <td>75.797501</td>\n",
              "      <td>218.000000</td>\n",
              "      <td>129.359467</td>\n",
              "      <td>160.089996</td>\n",
              "      <td>32.809334</td>\n",
              "    </tr>\n",
              "    <tr>\n",
              "      <th>...</th>\n",
              "      <td>...</td>\n",
              "      <td>...</td>\n",
              "      <td>...</td>\n",
              "      <td>...</td>\n",
              "      <td>...</td>\n",
              "    </tr>\n",
              "    <tr>\n",
              "      <th>2022-08-29</th>\n",
              "      <td>161.380005</td>\n",
              "      <td>96.599998</td>\n",
              "      <td>130.309998</td>\n",
              "      <td>265.230011</td>\n",
              "      <td>284.820007</td>\n",
              "    </tr>\n",
              "    <tr>\n",
              "      <th>2022-08-30</th>\n",
              "      <td>158.910004</td>\n",
              "      <td>93.839996</td>\n",
              "      <td>129.580002</td>\n",
              "      <td>262.970001</td>\n",
              "      <td>277.700012</td>\n",
              "    </tr>\n",
              "    <tr>\n",
              "      <th>2022-08-31</th>\n",
              "      <td>157.220001</td>\n",
              "      <td>95.410004</td>\n",
              "      <td>128.449997</td>\n",
              "      <td>261.470001</td>\n",
              "      <td>275.609985</td>\n",
              "    </tr>\n",
              "    <tr>\n",
              "      <th>2022-09-01</th>\n",
              "      <td>157.960007</td>\n",
              "      <td>93.709999</td>\n",
              "      <td>129.660004</td>\n",
              "      <td>260.399994</td>\n",
              "      <td>277.160004</td>\n",
              "    </tr>\n",
              "    <tr>\n",
              "      <th>2022-09-02</th>\n",
              "      <td>155.809998</td>\n",
              "      <td>91.800003</td>\n",
              "      <td>127.790001</td>\n",
              "      <td>256.059998</td>\n",
              "      <td>270.209991</td>\n",
              "    </tr>\n",
              "  </tbody>\n",
              "</table>\n",
              "<p>674 rows × 5 columns</p>\n",
              "</div>\n",
              "      <button class=\"colab-df-convert\" onclick=\"convertToInteractive('df-95c83526-ed5c-48cc-b304-9fc84928ecbd')\"\n",
              "              title=\"Convert this dataframe to an interactive table.\"\n",
              "              style=\"display:none;\">\n",
              "        \n",
              "  <svg xmlns=\"http://www.w3.org/2000/svg\" height=\"24px\"viewBox=\"0 0 24 24\"\n",
              "       width=\"24px\">\n",
              "    <path d=\"M0 0h24v24H0V0z\" fill=\"none\"/>\n",
              "    <path d=\"M18.56 5.44l.94 2.06.94-2.06 2.06-.94-2.06-.94-.94-2.06-.94 2.06-2.06.94zm-11 1L8.5 8.5l.94-2.06 2.06-.94-2.06-.94L8.5 2.5l-.94 2.06-2.06.94zm10 10l.94 2.06.94-2.06 2.06-.94-2.06-.94-.94-2.06-.94 2.06-2.06.94z\"/><path d=\"M17.41 7.96l-1.37-1.37c-.4-.4-.92-.59-1.43-.59-.52 0-1.04.2-1.43.59L10.3 9.45l-7.72 7.72c-.78.78-.78 2.05 0 2.83L4 21.41c.39.39.9.59 1.41.59.51 0 1.02-.2 1.41-.59l7.78-7.78 2.81-2.81c.8-.78.8-2.07 0-2.86zM5.41 20L4 18.59l7.72-7.72 1.47 1.35L5.41 20z\"/>\n",
              "  </svg>\n",
              "      </button>\n",
              "      \n",
              "  <style>\n",
              "    .colab-df-container {\n",
              "      display:flex;\n",
              "      flex-wrap:wrap;\n",
              "      gap: 12px;\n",
              "    }\n",
              "\n",
              "    .colab-df-convert {\n",
              "      background-color: #E8F0FE;\n",
              "      border: none;\n",
              "      border-radius: 50%;\n",
              "      cursor: pointer;\n",
              "      display: none;\n",
              "      fill: #1967D2;\n",
              "      height: 32px;\n",
              "      padding: 0 0 0 0;\n",
              "      width: 32px;\n",
              "    }\n",
              "\n",
              "    .colab-df-convert:hover {\n",
              "      background-color: #E2EBFA;\n",
              "      box-shadow: 0px 1px 2px rgba(60, 64, 67, 0.3), 0px 1px 3px 1px rgba(60, 64, 67, 0.15);\n",
              "      fill: #174EA6;\n",
              "    }\n",
              "\n",
              "    [theme=dark] .colab-df-convert {\n",
              "      background-color: #3B4455;\n",
              "      fill: #D2E3FC;\n",
              "    }\n",
              "\n",
              "    [theme=dark] .colab-df-convert:hover {\n",
              "      background-color: #434B5C;\n",
              "      box-shadow: 0px 1px 3px 1px rgba(0, 0, 0, 0.15);\n",
              "      filter: drop-shadow(0px 1px 2px rgba(0, 0, 0, 0.3));\n",
              "      fill: #FFFFFF;\n",
              "    }\n",
              "  </style>\n",
              "\n",
              "      <script>\n",
              "        const buttonEl =\n",
              "          document.querySelector('#df-95c83526-ed5c-48cc-b304-9fc84928ecbd button.colab-df-convert');\n",
              "        buttonEl.style.display =\n",
              "          google.colab.kernel.accessAllowed ? 'block' : 'none';\n",
              "\n",
              "        async function convertToInteractive(key) {\n",
              "          const element = document.querySelector('#df-95c83526-ed5c-48cc-b304-9fc84928ecbd');\n",
              "          const dataTable =\n",
              "            await google.colab.kernel.invokeFunction('convertToInteractive',\n",
              "                                                     [key], {});\n",
              "          if (!dataTable) return;\n",
              "\n",
              "          const docLinkHtml = 'Like what you see? Visit the ' +\n",
              "            '<a target=\"_blank\" href=https://colab.research.google.com/notebooks/data_table.ipynb>data table notebook</a>'\n",
              "            + ' to learn more about interactive tables.';\n",
              "          element.innerHTML = '';\n",
              "          dataTable['output_type'] = 'display_data';\n",
              "          await google.colab.output.renderOutput(dataTable, element);\n",
              "          const docLink = document.createElement('div');\n",
              "          docLink.innerHTML = docLinkHtml;\n",
              "          element.appendChild(docLink);\n",
              "        }\n",
              "      </script>\n",
              "    </div>\n",
              "  </div>\n",
              "  "
            ],
            "text/plain": [
              "Symbols           AAPL        BABA         IBM        MSFT        TSLA\n",
              "Date                                                                  \n",
              "2020-01-02   75.087502  219.770004  129.464630  160.619995   28.684000\n",
              "2020-01-03   74.357498  217.000000  128.432129  158.619995   29.534000\n",
              "2020-01-06   74.949997  216.639999  128.202682  159.029999   30.102667\n",
              "2020-01-07   74.597504  217.630005  128.288712  157.580002   31.270666\n",
              "2020-01-08   75.797501  218.000000  129.359467  160.089996   32.809334\n",
              "...                ...         ...         ...         ...         ...\n",
              "2022-08-29  161.380005   96.599998  130.309998  265.230011  284.820007\n",
              "2022-08-30  158.910004   93.839996  129.580002  262.970001  277.700012\n",
              "2022-08-31  157.220001   95.410004  128.449997  261.470001  275.609985\n",
              "2022-09-01  157.960007   93.709999  129.660004  260.399994  277.160004\n",
              "2022-09-02  155.809998   91.800003  127.790001  256.059998  270.209991\n",
              "\n",
              "[674 rows x 5 columns]"
            ]
          },
          "execution_count": 7,
          "metadata": {},
          "output_type": "execute_result"
        }
      ],
      "source": [
        "panel_data['Close']"
      ]
    },
    {
      "cell_type": "code",
      "execution_count": null,
      "metadata": {
        "colab": {
          "base_uri": "https://localhost:8080/"
        },
        "id": "L58aEWCv-bVH",
        "outputId": "8992d4fd-993a-4e53-9215-24c51a3af3cb"
      },
      "outputs": [
        {
          "name": "stdout",
          "output_type": "stream",
          "text": [
            "Symbols\n",
            "AAPL     75.087502\n",
            "BABA    219.770004\n",
            "IBM     129.464630\n",
            "MSFT    160.619995\n",
            "TSLA     28.684000\n",
            "Name: 2020-01-02 00:00:00, dtype: float64\n"
          ]
        }
      ],
      "source": [
        "# Find stock open and close data values\n",
        "stock_close = panel_data['Close']\n",
        "stock_open = panel_data['Open']\n",
        "\n",
        "print(stock_close.iloc[0])"
      ]
    },
    {
      "cell_type": "code",
      "execution_count": null,
      "metadata": {
        "colab": {
          "base_uri": "https://localhost:8080/"
        },
        "id": "GP_X5UnK-bVI",
        "outputId": "56c555ab-a787-4f84-e5a2-949c80c973be"
      },
      "outputs": [
        {
          "name": "stdout",
          "output_type": "stream",
          "text": [
            "5 674\n",
            "Company: Apple, Change: 67.09989547729492\n",
            "Company: Alibaba Group, Change: -144.51793670654297\n",
            "Company: IBM, Change: 17.136154174804688\n",
            "Company: Microsoft, Change: 38.949981689453125\n",
            "Company: Tsla Inc, Change: -82.74137687683105\n"
          ]
        }
      ],
      "source": [
        "# Calculate daily stock movement\n",
        "stock_close = np.array(stock_close).T\n",
        "stock_open = np.array(stock_open).T\n",
        "\n",
        "row, col = stock_close.shape\n",
        "print(row, col)\n",
        "\n",
        "movements = np.zeros([row, col])\n",
        "\n",
        "for i in range(0, row):\n",
        "    movements[i, :] = np.subtract(stock_close[i, :], stock_open[i, :])\n",
        "    \n",
        "for i in range(0, len(stocks)):\n",
        "    print('Company: {}, Change: {}'.format(stocks[i][0], sum(movements[i, :])))"
      ]
    },
    {
      "cell_type": "markdown",
      "metadata": {
        "id": "xDPoG7Aw-bVJ"
      },
      "source": [
        "## Visualization"
      ]
    },
    {
      "cell_type": "code",
      "execution_count": null,
      "metadata": {
        "colab": {
          "base_uri": "https://localhost:8080/",
          "height": 459
        },
        "id": "mJEdTDqf-bVK",
        "outputId": "53a04917-761a-41bf-899f-a49f38a3ea5c"
      },
      "outputs": [
        {
          "data": {
            "image/png": "[encoded data removed]",
            "text/plain": [
              "<Figure size 1296x1152 with 2 Axes>"
            ]
          },
          "metadata": {
            "needs_background": "light"
          },
          "output_type": "display_data"
        }
      ],
      "source": [
        "# Plot Stock Movements\n",
        "plt.figure(figsize=(18, 16))\n",
        "ax1 = plt.subplot(221)\n",
        "plt.plot(movements[0][:]);\n",
        "plt.title(stocks[0]);\n",
        "\n",
        "ax2 = plt.subplot(222, sharey=ax1)\n",
        "plt.plot(movements[1][:]);\n",
        "plt.title(stocks[1]);"
      ]
    },
    {
      "cell_type": "markdown",
      "metadata": {
        "id": "JEKnHJHC-bVL"
      },
      "source": [
        "## Preprocessing dataset"
      ]
    },
    {
      "cell_type": "code",
      "execution_count": null,
      "metadata": {
        "colab": {
          "base_uri": "https://localhost:8080/"
        },
        "id": "_NRiXzJt-bVL",
        "outputId": "605100e5-c9dc-4612-e892-4662b0d8629a"
      },
      "outputs": [
        {
          "name": "stdout",
          "output_type": "stream",
          "text": [
            "0.22673075640827092\n",
            "-0.24610409471556177\n",
            "4.04678950117632e-06\n"
          ]
        }
      ],
      "source": [
        "from sklearn.preprocessing import Normalizer\n",
        "\n",
        "# Create the normalizer\n",
        "normalizer = Normalizer()\n",
        "new = normalizer.fit_transform(movements)\n",
        "\n",
        "print(new.max())\n",
        "print(new.min())\n",
        "print(new.mean())"
      ]
    },
    {
      "cell_type": "code",
      "execution_count": null,
      "metadata": {
        "colab": {
          "base_uri": "https://localhost:8080/",
          "height": 459
        },
        "id": "2aoI6QyU-bVN",
        "outputId": "c11f50db-3130-417f-babb-6b59b0597af4"
      },
      "outputs": [
        {
          "data": {
            "image/png": "[encoded data removed]",
            "text/plain": [
              "<Figure size 1296x1152 with 2 Axes>"
            ]
          },
          "metadata": {
            "needs_background": "light"
          },
          "output_type": "display_data"
        }
      ],
      "source": [
        "# Plot Stock Movements\n",
        "plt.figure(figsize=(18, 16))\n",
        "ax1 = plt.subplot(221)\n",
        "plt.plot(new[0][:]);\n",
        "plt.title(stocks[0]);\n",
        "\n",
        "ax2 = plt.subplot(222, sharey=ax1)\n",
        "plt.plot(new[1][:]);\n",
        "plt.title(stocks[1]);"
      ]
    },
    {
      "cell_type": "markdown",
      "metadata": {
        "id": "EhMYHDRZdJsx"
      },
      "source": [
        "### Markowitz portfolio optimization"
      ]
    },
    {
      "cell_type": "markdown",
      "metadata": {
        "id": "giD6E7fddMbi"
      },
      "source": [
        "Portfolio optimization is the process of selecting the best portfolio, out of the set of all portfolios being considered, according to some objective. The objective typically maximizes factors such as expected return, and minimizes costs like financial risk.\n",
        "\n",
        "In this submission we're starting with a Classical Mean Variance Optimization, this's a portfolio model that uses the mean and variance of asset returns to express the trade-off between portfolio returns and risks. This model is expressed as an optimization problem with two conflicting objectives. That is, the expected return on results from the portfolio needs to be maximized, on the other hand, portfolio risk represented by the variance of returns from different assets, needs to be minimized"
      ]
    },
    {
      "cell_type": "code",
      "execution_count": null,
      "metadata": {
        "colab": {
          "base_uri": "https://localhost:8080/",
          "height": 455
        },
        "id": "UDtn3Etedcl2",
        "outputId": "11b8eaf6-e4c5-425f-9516-a8d62f660657"
      },
      "outputs": [
        {
          "data": {
            "text/html": [
              "\n",
              "  <div id=\"df-56a585f1-e385-4a3c-8d28-09c10f955109\">\n",
              "    <div class=\"colab-df-container\">\n",
              "      <div>\n",
              "<style scoped>\n",
              "    .dataframe tbody tr th:only-of-type {\n",
              "        vertical-align: middle;\n",
              "    }\n",
              "\n",
              "    .dataframe tbody tr th {\n",
              "        vertical-align: top;\n",
              "    }\n",
              "\n",
              "    .dataframe thead th {\n",
              "        text-align: right;\n",
              "    }\n",
              "</style>\n",
              "<table border=\"1\" class=\"dataframe\">\n",
              "  <thead>\n",
              "    <tr style=\"text-align: right;\">\n",
              "      <th>Symbols</th>\n",
              "      <th>AAPL</th>\n",
              "      <th>BABA</th>\n",
              "      <th>IBM</th>\n",
              "      <th>MSFT</th>\n",
              "      <th>TSLA</th>\n",
              "    </tr>\n",
              "    <tr>\n",
              "      <th>Date</th>\n",
              "      <th></th>\n",
              "      <th></th>\n",
              "      <th></th>\n",
              "      <th></th>\n",
              "      <th></th>\n",
              "    </tr>\n",
              "  </thead>\n",
              "  <tbody>\n",
              "    <tr>\n",
              "      <th>2020-01-02</th>\n",
              "      <td>75.087502</td>\n",
              "      <td>219.770004</td>\n",
              "      <td>129.464630</td>\n",
              "      <td>160.619995</td>\n",
              "      <td>28.684000</td>\n",
              "    </tr>\n",
              "    <tr>\n",
              "      <th>2020-01-03</th>\n",
              "      <td>74.357498</td>\n",
              "      <td>217.000000</td>\n",
              "      <td>128.432129</td>\n",
              "      <td>158.619995</td>\n",
              "      <td>29.534000</td>\n",
              "    </tr>\n",
              "    <tr>\n",
              "      <th>2020-01-06</th>\n",
              "      <td>74.949997</td>\n",
              "      <td>216.639999</td>\n",
              "      <td>128.202682</td>\n",
              "      <td>159.029999</td>\n",
              "      <td>30.102667</td>\n",
              "    </tr>\n",
              "    <tr>\n",
              "      <th>2020-01-07</th>\n",
              "      <td>74.597504</td>\n",
              "      <td>217.630005</td>\n",
              "      <td>128.288712</td>\n",
              "      <td>157.580002</td>\n",
              "      <td>31.270666</td>\n",
              "    </tr>\n",
              "    <tr>\n",
              "      <th>2020-01-08</th>\n",
              "      <td>75.797501</td>\n",
              "      <td>218.000000</td>\n",
              "      <td>129.359467</td>\n",
              "      <td>160.089996</td>\n",
              "      <td>32.809334</td>\n",
              "    </tr>\n",
              "    <tr>\n",
              "      <th>...</th>\n",
              "      <td>...</td>\n",
              "      <td>...</td>\n",
              "      <td>...</td>\n",
              "      <td>...</td>\n",
              "      <td>...</td>\n",
              "    </tr>\n",
              "    <tr>\n",
              "      <th>2022-08-29</th>\n",
              "      <td>161.380005</td>\n",
              "      <td>96.599998</td>\n",
              "      <td>130.309998</td>\n",
              "      <td>265.230011</td>\n",
              "      <td>284.820007</td>\n",
              "    </tr>\n",
              "    <tr>\n",
              "      <th>2022-08-30</th>\n",
              "      <td>158.910004</td>\n",
              "      <td>93.839996</td>\n",
              "      <td>129.580002</td>\n",
              "      <td>262.970001</td>\n",
              "      <td>277.700012</td>\n",
              "    </tr>\n",
              "    <tr>\n",
              "      <th>2022-08-31</th>\n",
              "      <td>157.220001</td>\n",
              "      <td>95.410004</td>\n",
              "      <td>128.449997</td>\n",
              "      <td>261.470001</td>\n",
              "      <td>275.609985</td>\n",
              "    </tr>\n",
              "    <tr>\n",
              "      <th>2022-09-01</th>\n",
              "      <td>157.960007</td>\n",
              "      <td>93.709999</td>\n",
              "      <td>129.660004</td>\n",
              "      <td>260.399994</td>\n",
              "      <td>277.160004</td>\n",
              "    </tr>\n",
              "    <tr>\n",
              "      <th>2022-09-02</th>\n",
              "      <td>155.809998</td>\n",
              "      <td>91.800003</td>\n",
              "      <td>127.790001</td>\n",
              "      <td>256.059998</td>\n",
              "      <td>270.209991</td>\n",
              "    </tr>\n",
              "  </tbody>\n",
              "</table>\n",
              "<p>674 rows × 5 columns</p>\n",
              "</div>\n",
              "      <button class=\"colab-df-convert\" onclick=\"convertToInteractive('df-56a585f1-e385-4a3c-8d28-09c10f955109')\"\n",
              "              title=\"Convert this dataframe to an interactive table.\"\n",
              "              style=\"display:none;\">\n",
              "        \n",
              "  <svg xmlns=\"http://www.w3.org/2000/svg\" height=\"24px\"viewBox=\"0 0 24 24\"\n",
              "       width=\"24px\">\n",
              "    <path d=\"M0 0h24v24H0V0z\" fill=\"none\"/>\n",
              "    <path d=\"M18.56 5.44l.94 2.06.94-2.06 2.06-.94-2.06-.94-.94-2.06-.94 2.06-2.06.94zm-11 1L8.5 8.5l.94-2.06 2.06-.94-2.06-.94L8.5 2.5l-.94 2.06-2.06.94zm10 10l.94 2.06.94-2.06 2.06-.94-2.06-.94-.94-2.06-.94 2.06-2.06.94z\"/><path d=\"M17.41 7.96l-1.37-1.37c-.4-.4-.92-.59-1.43-.59-.52 0-1.04.2-1.43.59L10.3 9.45l-7.72 7.72c-.78.78-.78 2.05 0 2.83L4 21.41c.39.39.9.59 1.41.59.51 0 1.02-.2 1.41-.59l7.78-7.78 2.81-2.81c.8-.78.8-2.07 0-2.86zM5.41 20L4 18.59l7.72-7.72 1.47 1.35L5.41 20z\"/>\n",
              "  </svg>\n",
              "      </button>\n",
              "      \n",
              "  <style>\n",
              "    .colab-df-container {\n",
              "      display:flex;\n",
              "      flex-wrap:wrap;\n",
              "      gap: 12px;\n",
              "    }\n",
              "\n",
              "    .colab-df-convert {\n",
              "      background-color: #E8F0FE;\n",
              "      border: none;\n",
              "      border-radius: 50%;\n",
              "      cursor: pointer;\n",
              "      display: none;\n",
              "      fill: #1967D2;\n",
              "      height: 32px;\n",
              "      padding: 0 0 0 0;\n",
              "      width: 32px;\n",
              "    }\n",
              "\n",
              "    .colab-df-convert:hover {\n",
              "      background-color: #E2EBFA;\n",
              "      box-shadow: 0px 1px 2px rgba(60, 64, 67, 0.3), 0px 1px 3px 1px rgba(60, 64, 67, 0.15);\n",
              "      fill: #174EA6;\n",
              "    }\n",
              "\n",
              "    [theme=dark] .colab-df-convert {\n",
              "      background-color: #3B4455;\n",
              "      fill: #D2E3FC;\n",
              "    }\n",
              "\n",
              "    [theme=dark] .colab-df-convert:hover {\n",
              "      background-color: #434B5C;\n",
              "      box-shadow: 0px 1px 3px 1px rgba(0, 0, 0, 0.15);\n",
              "      filter: drop-shadow(0px 1px 2px rgba(0, 0, 0, 0.3));\n",
              "      fill: #FFFFFF;\n",
              "    }\n",
              "  </style>\n",
              "\n",
              "      <script>\n",
              "        const buttonEl =\n",
              "          document.querySelector('#df-56a585f1-e385-4a3c-8d28-09c10f955109 button.colab-df-convert');\n",
              "        buttonEl.style.display =\n",
              "          google.colab.kernel.accessAllowed ? 'block' : 'none';\n",
              "\n",
              "        async function convertToInteractive(key) {\n",
              "          const element = document.querySelector('#df-56a585f1-e385-4a3c-8d28-09c10f955109');\n",
              "          const dataTable =\n",
              "            await google.colab.kernel.invokeFunction('convertToInteractive',\n",
              "                                                     [key], {});\n",
              "          if (!dataTable) return;\n",
              "\n",
              "          const docLinkHtml = 'Like what you see? Visit the ' +\n",
              "            '<a target=\"_blank\" href=https://colab.research.google.com/notebooks/data_table.ipynb>data table notebook</a>'\n",
              "            + ' to learn more about interactive tables.';\n",
              "          element.innerHTML = '';\n",
              "          dataTable['output_type'] = 'display_data';\n",
              "          await google.colab.output.renderOutput(dataTable, element);\n",
              "          const docLink = document.createElement('div');\n",
              "          docLink.innerHTML = docLinkHtml;\n",
              "          element.appendChild(docLink);\n",
              "        }\n",
              "      </script>\n",
              "    </div>\n",
              "  </div>\n",
              "  "
            ],
            "text/plain": [
              "Symbols           AAPL        BABA         IBM        MSFT        TSLA\n",
              "Date                                                                  \n",
              "2020-01-02   75.087502  219.770004  129.464630  160.619995   28.684000\n",
              "2020-01-03   74.357498  217.000000  128.432129  158.619995   29.534000\n",
              "2020-01-06   74.949997  216.639999  128.202682  159.029999   30.102667\n",
              "2020-01-07   74.597504  217.630005  128.288712  157.580002   31.270666\n",
              "2020-01-08   75.797501  218.000000  129.359467  160.089996   32.809334\n",
              "...                ...         ...         ...         ...         ...\n",
              "2022-08-29  161.380005   96.599998  130.309998  265.230011  284.820007\n",
              "2022-08-30  158.910004   93.839996  129.580002  262.970001  277.700012\n",
              "2022-08-31  157.220001   95.410004  128.449997  261.470001  275.609985\n",
              "2022-09-01  157.960007   93.709999  129.660004  260.399994  277.160004\n",
              "2022-09-02  155.809998   91.800003  127.790001  256.059998  270.209991\n",
              "\n",
              "[674 rows x 5 columns]"
            ]
          },
          "execution_count": 13,
          "metadata": {},
          "output_type": "execute_result"
        }
      ],
      "source": [
        "stock = panel_data['Close']\n",
        "stock"
      ]
    },
    {
      "cell_type": "code",
      "execution_count": null,
      "metadata": {
        "colab": {
          "base_uri": "https://localhost:8080/"
        },
        "id": "neVxgfW1dWVQ",
        "outputId": "742605d8-8ab3-4905-a5cf-d8d716e652f7"
      },
      "outputs": [
        {
          "name": "stderr",
          "output_type": "stream",
          "text": [
            "/usr/local/lib/python3.7/dist-packages/pypfopt/efficient_frontier/efficient_frontier.py:258: UserWarning: max_sharpe transforms the optimization problem so additional objectives may not work as expected.\n",
            "  \"max_sharpe transforms the optimization problem so additional objectives may not work as expected.\"\n"
          ]
        }
      ],
      "source": [
        "from pypfopt.expected_returns import mean_historical_return\n",
        "from pypfopt.risk_models import CovarianceShrinkage\n",
        "from pypfopt import EfficientFrontier, objective_functions\n",
        "\n",
        "mu = mean_historical_return(stock)\n",
        "S = CovarianceShrinkage(stock).ledoit_wolf()\n",
        "ef = EfficientFrontier(mu, S)\n",
        "ef.add_objective(objective_functions.L2_reg)\n",
        "weights = ef.max_sharpe()"
      ]
    },
    {
      "cell_type": "code",
      "execution_count": null,
      "metadata": {
        "colab": {
          "base_uri": "https://localhost:8080/"
        },
        "id": "zyS1W7V2dzok",
        "outputId": "b3492dc8-5ba2-45db-b81a-666bd6f016f8"
      },
      "outputs": [
        {
          "name": "stdout",
          "output_type": "stream",
          "text": [
            "The weights of the 5 stocks should be OrderedDict([('AAPL', 0.15054), ('BABA', 0.0), ('IBM', 0.0), ('MSFT', 0.04404), ('TSLA', 0.80542)])\n"
          ]
        }
      ],
      "source": [
        "cleaned_weights = ef.clean_weights()\n",
        "print('The weights of the 5 stocks should be',cleaned_weights)"
      ]
    },
    {
      "cell_type": "markdown",
      "metadata": {
        "id": "q1zGiu9vAuLW"
      },
      "source": []
    },
    {
      "cell_type": "code",
      "execution_count": null,
      "metadata": {
        "colab": {
          "base_uri": "https://localhost:8080/"
        },
        "id": "oOSgES4Id1Az",
        "outputId": "3c287ab7-8f15-4aba-d122-88c8922e27fd"
      },
      "outputs": [
        {
          "name": "stdout",
          "output_type": "stream",
          "text": [
            "Expected annual return: 111.6%\n",
            "Annual volatility: 61.9%\n",
            "Sharpe Ratio: 1.77\n"
          ]
        },
        {
          "data": {
            "text/plain": [
              "(1.115618181571927, 0.6192312859095769, 1.7693198107111054)"
            ]
          },
          "execution_count": 16,
          "metadata": {},
          "output_type": "execute_result"
        }
      ],
      "source": [
        "## The Expected return\n",
        "ef.portfolio_performance(verbose=True)"
      ]
    },
    {
      "cell_type": "code",
      "execution_count": null,
      "metadata": {
        "colab": {
          "base_uri": "https://localhost:8080/",
          "height": 585
        },
        "id": "JZtEFG_bd6NR",
        "outputId": "1c643d93-fa61-43f4-8193-954472bf0b97"
      },
      "outputs": [
        {
          "data": {
            "image/png": "[encoded data removed]",
            "text/plain": [
              "<Figure size 576x576 with 1 Axes>"
            ]
          },
          "metadata": {
            "needs_background": "light"
          },
          "output_type": "display_data"
        }
      ],
      "source": [
        "import matplotlib.pyplot as plt\n",
        "from pypfopt import plotting\n",
        "ef = EfficientFrontier(mu, S, weight_bounds=(None, None))\n",
        "fig, ax = plt.subplots()\n",
        "plotting.plot_efficient_frontier(ef, ax=ax, show_assets=True)\n",
        "plt.show()"
      ]
    },
    {
      "cell_type": "code",
      "execution_count": null,
      "metadata": {
        "colab": {
          "base_uri": "https://localhost:8080/",
          "height": 303
        },
        "id": "doLVQ0I9eB02",
        "outputId": "adda68ab-63ca-4bb8-94cb-3540cb6d6948"
      },
      "outputs": [
        {
          "data": {
            "image/png": "[encoded data removed]",
            "text/plain": [
              "<Figure size 360x360 with 1 Axes>"
            ]
          },
          "metadata": {},
          "output_type": "display_data"
        }
      ],
      "source": [
        "# chart of the weights. \n",
        "pd.Series(weights).plot.pie(figsize=(5,5));"
      ]
    },
    {
      "cell_type": "markdown",
      "metadata": {
        "id": "F2WzHvmDeJiw"
      },
      "source": [
        "** Using classic mean-variance (MV) portfolio model by Markowitz, TSLA security is the best portfolio among 5 securities.\n",
        "\n",
        "**Bummer!!** <br>\n",
        "Using Markowitz model, we can see that all portfolios lie below the Efficient Frontier which is not good enough because the return would be lower for the given risk. Portfolios that lie to the right of the Efficient Frontier would not be good enough, as there is higher risk for a given rate of return. Thus, our decision to take TSLA as an optimal portfolio might not accurate. <br>\n",
        "We need to run additionnal tests. Here we'll do the following:\n",
        "\n",
        "\n",
        "1.   Denoising for portfolio selection\n",
        "2.   Clustering for portfolio selection\n",
        "3.   Backtesting for portfolio selection\n"
      ]
    },
    {
      "cell_type": "markdown",
      "metadata": {
        "id": "3R9P9E-Qdtkc"
      },
      "source": [
        "# Step 2 and step 3\n",
        "# The ‘best’ portfolio with superior risk reward relationship: TSLA"
      ]
    },
    {
      "cell_type": "markdown",
      "metadata": {
        "id": "lUqmQqHdbuB1"
      },
      "source": [
        "## Denoising for stock selection"
      ]
    },
    {
      "cell_type": "code",
      "execution_count": null,
      "metadata": {
        "id": "P9uVpzT8bl2K"
      },
      "outputs": [],
      "source": [
        "# Install pacage for denoising\n",
        "! pip install -U git+https://github.com/emoen/Machine-Learning-for-Asset-Managers --quiet"
      ]
    },
    {
      "cell_type": "code",
      "execution_count": null,
      "metadata": {
        "colab": {
          "base_uri": "https://localhost:8080/"
        },
        "id": "9UXOIjpObtQ-",
        "outputId": "405cf3ab-a051-4db0-a213-28b3003fe69f"
      },
      "outputs": [
        {
          "name": "stdout",
          "output_type": "stream",
          "text": [
            "Covariance of the 5 stocks\n",
            " Symbols      AAPL      BABA       IBM      MSFT      TSLA\n",
            "Symbols                                                  \n",
            "AAPL     0.136439  0.069893  0.049008  0.098410  0.134694\n",
            "BABA     0.069893  0.293995  0.027263  0.065961  0.129966\n",
            "IBM      0.049008  0.027263  0.101232  0.048291  0.048947\n",
            "MSFT     0.098410  0.065961  0.048291  0.121096  0.124847\n",
            "TSLA     0.134694  0.129966  0.048947  0.124847  0.519959\n"
          ]
        }
      ],
      "source": [
        "from Machine_Learning_for_Asset_Managers import ch2_marcenko_pastur_pdf as c\n",
        "\n",
        "# Get the covariance of the stock, here the covariance calculated in the previous step has been applied.  \n",
        "cov = S\n",
        "print('Covariance of the 5 stocks\\n',cov)"
      ]
    },
    {
      "cell_type": "code",
      "execution_count": null,
      "metadata": {
        "id": "-cp1EZdmeRxj"
      },
      "outputs": [],
      "source": [
        "# marcenko-pastur pdf and eigenvalues of random matrix x\n",
        "N = 1000\n",
        "T = 10000\n",
        "x = np.random.normal(0, 1, size = (T, N))\n",
        "cor = np.corrcoef(x, rowvar=0) # cor.shape = (1000,1000). If rowvar=1 - row represents a var, with observations in the columns.\n",
        "eVal0 , eVec0 = c.getPCA( cor ) \n",
        "q=x.shape[0]/float(x.shape[1])\n",
        "pdf0 = c.mpPDF(1., q, pts=N)\n",
        "pdf1 = c.fitKDE(np.diag(eVal0), bWidth=.005) #empirical pdf"
      ]
    },
    {
      "cell_type": "code",
      "execution_count": null,
      "metadata": {
        "id": "3XlNWOLLeWFr"
      },
      "outputs": [],
      "source": [
        "# Covariance matrix of the portfolio\n",
        "corr0 = c.cov2corr(cov)\n",
        "eVal01, eVec01 = c.getPCA(corr0)"
      ]
    },
    {
      "cell_type": "code",
      "execution_count": null,
      "metadata": {
        "colab": {
          "base_uri": "https://localhost:8080/",
          "height": 848
        },
        "id": "S1xXPbs-ebG-",
        "outputId": "37f4bf34-8951-4723-a270-d8f17b41dcfa"
      },
      "outputs": [
        {
          "data": {
            "text/plain": [
              "(array([4.0877831, 0.       , 0.       , 0.       , 0.       , 4.0877831,\n",
              "        0.       , 0.       , 0.       , 4.0877831, 0.       , 0.       ,\n",
              "        0.       , 4.0877831, 0.       , 0.       , 0.       , 0.       ,\n",
              "        0.       , 0.       , 0.       , 0.       , 0.       , 0.       ,\n",
              "        0.       , 0.       , 0.       , 0.       , 0.       , 0.       ,\n",
              "        0.       , 0.       , 0.       , 0.       , 0.       , 0.       ,\n",
              "        0.       , 0.       , 0.       , 0.       , 0.       , 0.       ,\n",
              "        0.       , 0.       , 0.       , 0.       , 0.       , 0.       ,\n",
              "        0.       , 4.0877831]),\n",
              " array([0.23399515, 0.28292143, 0.3318477 , 0.38077398, 0.42970025,\n",
              "        0.47862653, 0.5275528 , 0.57647908, 0.62540535, 0.67433163,\n",
              "        0.7232579 , 0.77218418, 0.82111045, 0.87003673, 0.918963  ,\n",
              "        0.96788928, 1.01681555, 1.06574183, 1.1146681 , 1.16359438,\n",
              "        1.21252065, 1.26144693, 1.3103732 , 1.35929948, 1.40822575,\n",
              "        1.45715203, 1.50607831, 1.55500458, 1.60393086, 1.65285713,\n",
              "        1.70178341, 1.75070968, 1.79963596, 1.84856223, 1.89748851,\n",
              "        1.94641478, 1.99534106, 2.04426733, 2.09319361, 2.14211988,\n",
              "        2.19104616, 2.23997243, 2.28889871, 2.33782498, 2.38675126,\n",
              "        2.43567753, 2.48460381, 2.53353008, 2.58245636, 2.63138263,\n",
              "        2.68030891]),\n",
              " <a list of 50 Patch objects>)"
            ]
          },
          "execution_count": 23,
          "metadata": {},
          "output_type": "execute_result"
        },
        {
          "data": {
            "image/png": "[encoded data removed]",
            "text/plain": [
              "<Figure size 576x576 with 1 Axes>"
            ]
          },
          "metadata": {
            "needs_background": "light"
          },
          "output_type": "display_data"
        }
      ],
      "source": [
        "# Figure of KDE and MPD\n",
        "fig = plt.figure()\n",
        "ax  = fig.add_subplot(111)\n",
        "ax.hist(np.diag(eVal01), density = True, bins=50) # Histogram the eigenvalues"
      ]
    },
    {
      "cell_type": "code",
      "execution_count": null,
      "metadata": {
        "colab": {
          "base_uri": "https://localhost:8080/"
        },
        "id": "uuGrr-mIebCH",
        "outputId": "bb5b406e-a2ee-418b-b2a6-25dd33875cb4"
      },
      "outputs": [
        {
          "name": "stdout",
          "output_type": "stream",
          "text": [
            "sse:5007.208851352265\n",
            "sse:5007.208447968755\n",
            "sse:2458.1599384672527\n",
            "sse:2458.1599512448934\n",
            "found errPDFs0.99999\n"
          ]
        }
      ],
      "source": [
        "#fitting the marcenko-pastur pdf - find variance\n",
        "eMax0, var0 = c.findMaxEval(np.diag(eVal01), q, bWidth=.01)\n",
        "nFacts0 = eVal01.shape[0]-np.diag(eVal01)[::-1].searchsorted(eMax0)"
      ]
    },
    {
      "cell_type": "code",
      "execution_count": null,
      "metadata": {
        "colab": {
          "base_uri": "https://localhost:8080/",
          "height": 483
        },
        "id": "QddJSecWea9s",
        "outputId": "9b920c59-0e41-4215-ab19-d7f1212aade2"
      },
      "outputs": [
        {
          "data": {
            "image/png": "[encoded data removed]",
            "text/plain": [
              "<Figure size 576x576 with 1 Axes>"
            ]
          },
          "metadata": {
            "needs_background": "light"
          },
          "output_type": "display_data"
        }
      ],
      "source": [
        "# Plotting\n",
        "pdf0 = c.mpPDF(var0, q=x.shape[0]/float(x.shape[1]), pts=N)\n",
        "fig = plt.figure()\n",
        "ax  = fig.add_subplot(111)\n",
        "ax.hist(np.diag(eVal01), density = True, bins=50) # Histogram the eigenvalues\n",
        "\n",
        "plt.plot(pdf0.keys(), pdf0, color='r', label=\"Marcenko-Pastur pdf\")\n",
        "#plt.plot(pdf1.keys(), pdf1, color='g', label=\"Empirical:KDE\")\n",
        "#plt.plot(x_range, pdf2, color='b', label=\"Eigenvalues of random-matrix with signal\")\n",
        "plt.legend(loc=\"upper right\")\n",
        "plt.show()   "
      ]
    },
    {
      "cell_type": "code",
      "execution_count": null,
      "metadata": {
        "colab": {
          "base_uri": "https://localhost:8080/",
          "height": 994
        },
        "id": "rvz8qRCVea4Y",
        "outputId": "4b908bcd-47a9-4fe2-e0ca-3132b39ecd35"
      },
      "outputs": [
        {
          "data": {
            "image/png": "[encoded data removed]",
            "text/plain": [
              "<Figure size 576x576 with 1 Axes>"
            ]
          },
          "metadata": {
            "needs_background": "light"
          },
          "output_type": "display_data"
        },
        {
          "name": "stderr",
          "output_type": "stream",
          "text": [
            "/usr/local/lib/python3.7/dist-packages/ipykernel_launcher.py:21: RuntimeWarning: invalid value encountered in log\n"
          ]
        },
        {
          "data": {
            "image/png": "[encoded data removed]",
            "text/plain": [
              "<Figure size 576x576 with 1 Axes>"
            ]
          },
          "metadata": {
            "needs_background": "light"
          },
          "output_type": "display_data"
        }
      ],
      "source": [
        "# denoising and detoning by constant residual eigenvalue\n",
        "corr1 = c.denoisedCorr(eVal01, eVec01, nFacts0)   \n",
        "eVal1, eVec1 = c.getPCA(corr1)\n",
        "\n",
        "denoised_eigenvalue = np.diag(eVal1)\n",
        "eigenvalue_prior = np.diag(eVal01)\n",
        "plt.plot(range(0, len(denoised_eigenvalue)), np.log(denoised_eigenvalue), color='r', label=\"Denoised eigen-function\")\n",
        "plt.plot(range(0, len(eigenvalue_prior)), np.log(eigenvalue_prior), color='g', label=\"Original eigen-function\")\n",
        "plt.xlabel(\"Eigenvalue number\")\n",
        "plt.ylabel(\"Eigenvalue (log-scale)\")\n",
        "plt.legend(loc=\"upper right\")\n",
        "plt.show()\n",
        "\n",
        "corr_detoned_denoised = c.detoned_corr(corr1, eVal1, eVec1)\n",
        "\n",
        "eVal1_detoned, eVec1_detoned = c.getPCA(corr_detoned_denoised)\n",
        "detoned_denoised_eigenvalue = np.diag(eVal1_detoned)\n",
        "denoised_eigenvalue = np.diag(eVal1)\n",
        "eigenvalue_prior = np.diag(eVal01)\n",
        "\n",
        "plt.plot(range(0, len(detoned_denoised_eigenvalue)), np.log(detoned_denoised_eigenvalue), color='b', label=\"Detoned, denoised eigen-function\")\n",
        "plt.plot(range(0, len(denoised_eigenvalue)), np.log(denoised_eigenvalue), color='r', label=\"Denoised eigen-function\")\n",
        "plt.plot(range(0, len(eigenvalue_prior)), np.log(eigenvalue_prior), color='g', label=\"Original eigen-function\")\n",
        "plt.xlabel(\"Eigenvalue number\")\n",
        "plt.ylabel(\"Eigenvalue (log-scale)\")\n",
        "plt.legend(loc=\"upper right\")\n",
        "plt.show()"
      ]
    },
    {
      "cell_type": "code",
      "execution_count": null,
      "metadata": {
        "colab": {
          "base_uri": "https://localhost:8080/"
        },
        "id": "tCaCaqC7eayN",
        "outputId": "873ecbe5-03e2-454d-b9ee-93aa61a36956"
      },
      "outputs": [
        {
          "data": {
            "text/plain": [
              "array([[1.        , 0.38754247, 0.4008005 , 0.507748  , 0.45190627],\n",
              "       [0.38754247, 1.        , 0.30632294, 0.38806054, 0.34538194],\n",
              "       [0.4008005 , 0.30632294, 1.        , 0.4013363 , 0.35719764],\n",
              "       [0.507748  , 0.38806054, 0.4013363 , 1.        , 0.45251038],\n",
              "       [0.45190627, 0.34538194, 0.35719764, 0.45251038, 1.        ]])"
            ]
          },
          "execution_count": 27,
          "metadata": {},
          "output_type": "execute_result"
        }
      ],
      "source": [
        "# The denoised matrix\n",
        "corr1"
      ]
    },
    {
      "cell_type": "code",
      "execution_count": null,
      "metadata": {
        "colab": {
          "base_uri": "https://localhost:8080/"
        },
        "id": "bZsl40WCeasn",
        "outputId": "2d5ffaad-85b2-4692-a191-a8598c181336"
      },
      "outputs": [
        {
          "data": {
            "text/plain": [
              "array([[ 1.        , -0.25338027, -0.25482779, -0.22891303, -0.25159558],\n",
              "       [-0.25338027,  1.        , -0.2424503 , -0.25329885, -0.2530864 ],\n",
              "       [-0.25482779, -0.2424503 ,  1.        , -0.2547212 , -0.25616844],\n",
              "       [-0.22891303, -0.25329885, -0.2547212 ,  1.        , -0.25136642],\n",
              "       [-0.25159558, -0.2530864 , -0.25616844, -0.25136642,  1.        ]])"
            ]
          },
          "execution_count": 28,
          "metadata": {},
          "output_type": "execute_result"
        }
      ],
      "source": [
        "# The matrix after be denoising and detoning\n",
        "corr_detoned_denoised\n"
      ]
    },
    {
      "cell_type": "code",
      "execution_count": null,
      "metadata": {
        "colab": {
          "base_uri": "https://localhost:8080/"
        },
        "id": "9YM7YwG1eaoH",
        "outputId": "64153799-abb1-4b5f-8344-a1ca0bc8cb5c"
      },
      "outputs": [
        {
          "name": "stdout",
          "output_type": "stream",
          "text": [
            "The weights of the 5 stocks after denoising should be OrderedDict([('AAPL', 0.00123), ('BABA', 0.0), ('IBM', 0.0), ('MSFT', 0.0), ('TSLA', 0.99877)])\n"
          ]
        },
        {
          "name": "stderr",
          "output_type": "stream",
          "text": [
            "/usr/local/lib/python3.7/dist-packages/pypfopt/efficient_frontier/efficient_frontier.py:258: UserWarning: max_sharpe transforms the optimization problem so additional objectives may not work as expected.\n",
            "  \"max_sharpe transforms the optimization problem so additional objectives may not work as expected.\"\n"
          ]
        }
      ],
      "source": [
        "# Using the denoised matrix, we can again get the new portfolio\n",
        "ef = EfficientFrontier(mu, corr1)\n",
        "ef.add_objective(objective_functions.L2_reg)\n",
        "weights = ef.max_sharpe()\n",
        "cleaned_weights = ef.clean_weights()\n",
        "print('The weights of the 5 stocks after denoising should be',cleaned_weights)"
      ]
    },
    {
      "cell_type": "code",
      "execution_count": null,
      "metadata": {
        "colab": {
          "base_uri": "https://localhost:8080/"
        },
        "id": "01rpNIPkeahh",
        "outputId": "0dad4238-2058-44fa-feb2-6e266d41f9dd"
      },
      "outputs": [
        {
          "name": "stdout",
          "output_type": "stream",
          "text": [
            "Expected annual return: 131.5%\n",
            "Annual volatility: 99.9%\n",
            "Sharpe Ratio: 1.30\n"
          ]
        },
        {
          "data": {
            "text/plain": [
              "(1.314721552184871, 0.9993248802826298, 1.2955962347487004)"
            ]
          },
          "execution_count": 30,
          "metadata": {},
          "output_type": "execute_result"
        }
      ],
      "source": [
        "## The Expected return for denoised matrix\n",
        "ef.portfolio_performance(verbose=True)"
      ]
    },
    {
      "cell_type": "code",
      "execution_count": null,
      "metadata": {
        "colab": {
          "base_uri": "https://localhost:8080/"
        },
        "id": "7wRSlaGSeaa7",
        "outputId": "8355b987-b3fc-4a92-8d3e-68325f0dc3b5"
      },
      "outputs": [
        {
          "name": "stdout",
          "output_type": "stream",
          "text": [
            "The weights of the 5 stocks after denoising and detoning should be OrderedDict([('AAPL', 0.20095), ('BABA', 0.01988), ('IBM', 0.10555), ('MSFT', 0.16244), ('TSLA', 0.51118)])\n"
          ]
        }
      ],
      "source": [
        "# New portfolio with denoised and detoned matrix\n",
        "ef = EfficientFrontier(mu, corr_detoned_denoised)\n",
        "ef.add_objective(objective_functions.L2_reg)\n",
        "weights = ef.max_sharpe()\n",
        "cleaned_weights = ef.clean_weights()\n",
        "print('The weights of the 5 stocks after denoising and detoning should be',cleaned_weights)"
      ]
    },
    {
      "cell_type": "code",
      "execution_count": null,
      "metadata": {
        "colab": {
          "base_uri": "https://localhost:8080/"
        },
        "id": "r8--xtbMfDH6",
        "outputId": "a2fba042-e1f5-4ad7-86f5-546c3f1668de"
      },
      "outputs": [
        {
          "name": "stdout",
          "output_type": "stream",
          "text": [
            "Expected annual return: 76.1%\n",
            "Annual volatility: 41.7%\n",
            "Sharpe Ratio: 1.77\n"
          ]
        },
        {
          "data": {
            "text/plain": [
              "(0.7607958807226721, 0.41739813946292703, 1.7747944005592986)"
            ]
          },
          "execution_count": 32,
          "metadata": {},
          "output_type": "execute_result"
        }
      ],
      "source": [
        "## The Expected return for denoised and detoned matrix\n",
        "ef.portfolio_performance(verbose=True)"
      ]
    },
    {
      "cell_type": "markdown",
      "metadata": {
        "id": "da5j8KNYfLgr"
      },
      "source": [
        "### Conclusion\n",
        "* We can clearly see there is a significant increase in the expected annual return and decrease in Sharpe ratio after denoising. \n",
        "* The weights of the 5 stocks after denoising and detoning results shows that TSLA is the best portfolio among others\n",
        "  "
      ]
    },
    {
      "cell_type": "markdown",
      "metadata": {
        "id": "fkVWDIdcfPfm"
      },
      "source": [
        "## Clustering for stock selection"
      ]
    },
    {
      "cell_type": "code",
      "execution_count": null,
      "metadata": {
        "colab": {
          "base_uri": "https://localhost:8080/",
          "height": 530
        },
        "id": "42pCoknFfX-n",
        "outputId": "df2c5cc9-6282-4020-d33a-cafd4c4786bc"
      },
      "outputs": [
        {
          "data": {
            "text/plain": [
              "<function matplotlib.pyplot.show(*args, **kw)>"
            ]
          },
          "execution_count": 33,
          "metadata": {},
          "output_type": "execute_result"
        },
        {
          "data": {
            "image/png": "[encoded data removed]",
            "text/plain": [
              "<Figure size 576x576 with 1 Axes>"
            ]
          },
          "metadata": {
            "needs_background": "light"
          },
          "output_type": "display_data"
        }
      ],
      "source": [
        "# Elbow method for optimal cluster selection\n",
        "from sklearn.cluster import KMeans\n",
        "wcss = []\n",
        "for i in range(1,11):\n",
        "    kmeans=KMeans(n_clusters= i, init='k-means++', max_iter=300, n_init=10, random_state=0)\n",
        "    kmeans.fit(stock)\n",
        "    wcss.append(kmeans.inertia_)\n",
        "plt.plot(range(1,11),wcss)\n",
        "plt.title('The Elbow method')\n",
        "plt.xlabel('Number of Cluster')\n",
        "plt.ylabel('wcss')\n",
        "plt.show"
      ]
    },
    {
      "cell_type": "markdown",
      "metadata": {
        "id": "JJXgu2V-fjI4"
      },
      "source": [
        "Using elbow method, the optimal number of cluster is 5"
      ]
    },
    {
      "cell_type": "markdown",
      "metadata": {
        "id": "U1dz9Nca-bVO"
      },
      "source": [
        "## Build Pipeline"
      ]
    },
    {
      "cell_type": "code",
      "execution_count": null,
      "metadata": {
        "id": "t2WWXgpl-bVP"
      },
      "outputs": [],
      "source": [
        "from sklearn.pipeline import make_pipeline\n",
        "from sklearn.cluster import KMeans\n",
        "\n",
        "# Define normalizer\n",
        "normalizer = Normalizer()\n",
        "\n",
        "# Create a KMeans model - 5 clusters\n",
        "kmeans = KMeans(n_clusters=5, max_iter=1000)\n",
        "\n",
        "# Make a pipeline chaining normalizer and kmeans\n",
        "pipeline = make_pipeline(normalizer, kmeans)"
      ]
    },
    {
      "cell_type": "code",
      "execution_count": null,
      "metadata": {
        "colab": {
          "base_uri": "https://localhost:8080/"
        },
        "id": "OMgWKmEk-bVQ",
        "outputId": "bef4846a-6ccc-4c91-98f0-a50d9113f6b5"
      },
      "outputs": [
        {
          "data": {
            "text/plain": [
              "Pipeline(steps=[('normalizer', Normalizer()),\n",
              "                ('kmeans', KMeans(max_iter=1000, n_clusters=5))])"
            ]
          },
          "execution_count": 35,
          "metadata": {},
          "output_type": "execute_result"
        }
      ],
      "source": [
        "# Fit pipeline to dail stock movements\n",
        "pipeline.fit(movements)"
      ]
    },
    {
      "cell_type": "code",
      "execution_count": null,
      "metadata": {
        "colab": {
          "base_uri": "https://localhost:8080/"
        },
        "id": "3zhceaBO-bVQ",
        "outputId": "3781bc60-7bd4-42d1-bd4b-b9299102821d"
      },
      "outputs": [
        {
          "name": "stdout",
          "output_type": "stream",
          "text": [
            "0.0\n"
          ]
        }
      ],
      "source": [
        "print(kmeans.inertia_)"
      ]
    },
    {
      "cell_type": "code",
      "execution_count": null,
      "metadata": {
        "colab": {
          "base_uri": "https://localhost:8080/",
          "height": 455
        },
        "id": "naxoPoJHhHAl",
        "outputId": "2c3285f4-b0ba-4b5c-c05e-098f5883f13e"
      },
      "outputs": [
        {
          "data": {
            "text/html": [
              "\n",
              "  <div id=\"df-65560cd2-0a44-40cb-88f4-afdda5277cae\">\n",
              "    <div class=\"colab-df-container\">\n",
              "      <div>\n",
              "<style scoped>\n",
              "    .dataframe tbody tr th:only-of-type {\n",
              "        vertical-align: middle;\n",
              "    }\n",
              "\n",
              "    .dataframe tbody tr th {\n",
              "        vertical-align: top;\n",
              "    }\n",
              "\n",
              "    .dataframe thead th {\n",
              "        text-align: right;\n",
              "    }\n",
              "</style>\n",
              "<table border=\"1\" class=\"dataframe\">\n",
              "  <thead>\n",
              "    <tr style=\"text-align: right;\">\n",
              "      <th>Symbols</th>\n",
              "      <th>AAPL</th>\n",
              "      <th>BABA</th>\n",
              "      <th>IBM</th>\n",
              "      <th>MSFT</th>\n",
              "      <th>TSLA</th>\n",
              "    </tr>\n",
              "    <tr>\n",
              "      <th>Date</th>\n",
              "      <th></th>\n",
              "      <th></th>\n",
              "      <th></th>\n",
              "      <th></th>\n",
              "      <th></th>\n",
              "    </tr>\n",
              "  </thead>\n",
              "  <tbody>\n",
              "    <tr>\n",
              "      <th>2020-01-02</th>\n",
              "      <td>75.087502</td>\n",
              "      <td>219.770004</td>\n",
              "      <td>129.464630</td>\n",
              "      <td>160.619995</td>\n",
              "      <td>28.684000</td>\n",
              "    </tr>\n",
              "    <tr>\n",
              "      <th>2020-01-03</th>\n",
              "      <td>74.357498</td>\n",
              "      <td>217.000000</td>\n",
              "      <td>128.432129</td>\n",
              "      <td>158.619995</td>\n",
              "      <td>29.534000</td>\n",
              "    </tr>\n",
              "    <tr>\n",
              "      <th>2020-01-06</th>\n",
              "      <td>74.949997</td>\n",
              "      <td>216.639999</td>\n",
              "      <td>128.202682</td>\n",
              "      <td>159.029999</td>\n",
              "      <td>30.102667</td>\n",
              "    </tr>\n",
              "    <tr>\n",
              "      <th>2020-01-07</th>\n",
              "      <td>74.597504</td>\n",
              "      <td>217.630005</td>\n",
              "      <td>128.288712</td>\n",
              "      <td>157.580002</td>\n",
              "      <td>31.270666</td>\n",
              "    </tr>\n",
              "    <tr>\n",
              "      <th>2020-01-08</th>\n",
              "      <td>75.797501</td>\n",
              "      <td>218.000000</td>\n",
              "      <td>129.359467</td>\n",
              "      <td>160.089996</td>\n",
              "      <td>32.809334</td>\n",
              "    </tr>\n",
              "    <tr>\n",
              "      <th>...</th>\n",
              "      <td>...</td>\n",
              "      <td>...</td>\n",
              "      <td>...</td>\n",
              "      <td>...</td>\n",
              "      <td>...</td>\n",
              "    </tr>\n",
              "    <tr>\n",
              "      <th>2022-08-29</th>\n",
              "      <td>161.380005</td>\n",
              "      <td>96.599998</td>\n",
              "      <td>130.309998</td>\n",
              "      <td>265.230011</td>\n",
              "      <td>284.820007</td>\n",
              "    </tr>\n",
              "    <tr>\n",
              "      <th>2022-08-30</th>\n",
              "      <td>158.910004</td>\n",
              "      <td>93.839996</td>\n",
              "      <td>129.580002</td>\n",
              "      <td>262.970001</td>\n",
              "      <td>277.700012</td>\n",
              "    </tr>\n",
              "    <tr>\n",
              "      <th>2022-08-31</th>\n",
              "      <td>157.220001</td>\n",
              "      <td>95.410004</td>\n",
              "      <td>128.449997</td>\n",
              "      <td>261.470001</td>\n",
              "      <td>275.609985</td>\n",
              "    </tr>\n",
              "    <tr>\n",
              "      <th>2022-09-01</th>\n",
              "      <td>157.960007</td>\n",
              "      <td>93.709999</td>\n",
              "      <td>129.660004</td>\n",
              "      <td>260.399994</td>\n",
              "      <td>277.160004</td>\n",
              "    </tr>\n",
              "    <tr>\n",
              "      <th>2022-09-02</th>\n",
              "      <td>155.809998</td>\n",
              "      <td>91.800003</td>\n",
              "      <td>127.790001</td>\n",
              "      <td>256.059998</td>\n",
              "      <td>270.209991</td>\n",
              "    </tr>\n",
              "  </tbody>\n",
              "</table>\n",
              "<p>674 rows × 5 columns</p>\n",
              "</div>\n",
              "      <button class=\"colab-df-convert\" onclick=\"convertToInteractive('df-65560cd2-0a44-40cb-88f4-afdda5277cae')\"\n",
              "              title=\"Convert this dataframe to an interactive table.\"\n",
              "              style=\"display:none;\">\n",
              "        \n",
              "  <svg xmlns=\"http://www.w3.org/2000/svg\" height=\"24px\"viewBox=\"0 0 24 24\"\n",
              "       width=\"24px\">\n",
              "    <path d=\"M0 0h24v24H0V0z\" fill=\"none\"/>\n",
              "    <path d=\"M18.56 5.44l.94 2.06.94-2.06 2.06-.94-2.06-.94-.94-2.06-.94 2.06-2.06.94zm-11 1L8.5 8.5l.94-2.06 2.06-.94-2.06-.94L8.5 2.5l-.94 2.06-2.06.94zm10 10l.94 2.06.94-2.06 2.06-.94-2.06-.94-.94-2.06-.94 2.06-2.06.94z\"/><path d=\"M17.41 7.96l-1.37-1.37c-.4-.4-.92-.59-1.43-.59-.52 0-1.04.2-1.43.59L10.3 9.45l-7.72 7.72c-.78.78-.78 2.05 0 2.83L4 21.41c.39.39.9.59 1.41.59.51 0 1.02-.2 1.41-.59l7.78-7.78 2.81-2.81c.8-.78.8-2.07 0-2.86zM5.41 20L4 18.59l7.72-7.72 1.47 1.35L5.41 20z\"/>\n",
              "  </svg>\n",
              "      </button>\n",
              "      \n",
              "  <style>\n",
              "    .colab-df-container {\n",
              "      display:flex;\n",
              "      flex-wrap:wrap;\n",
              "      gap: 12px;\n",
              "    }\n",
              "\n",
              "    .colab-df-convert {\n",
              "      background-color: #E8F0FE;\n",
              "      border: none;\n",
              "      border-radius: 50%;\n",
              "      cursor: pointer;\n",
              "      display: none;\n",
              "      fill: #1967D2;\n",
              "      height: 32px;\n",
              "      padding: 0 0 0 0;\n",
              "      width: 32px;\n",
              "    }\n",
              "\n",
              "    .colab-df-convert:hover {\n",
              "      background-color: #E2EBFA;\n",
              "      box-shadow: 0px 1px 2px rgba(60, 64, 67, 0.3), 0px 1px 3px 1px rgba(60, 64, 67, 0.15);\n",
              "      fill: #174EA6;\n",
              "    }\n",
              "\n",
              "    [theme=dark] .colab-df-convert {\n",
              "      background-color: #3B4455;\n",
              "      fill: #D2E3FC;\n",
              "    }\n",
              "\n",
              "    [theme=dark] .colab-df-convert:hover {\n",
              "      background-color: #434B5C;\n",
              "      box-shadow: 0px 1px 3px 1px rgba(0, 0, 0, 0.15);\n",
              "      filter: drop-shadow(0px 1px 2px rgba(0, 0, 0, 0.3));\n",
              "      fill: #FFFFFF;\n",
              "    }\n",
              "  </style>\n",
              "\n",
              "      <script>\n",
              "        const buttonEl =\n",
              "          document.querySelector('#df-65560cd2-0a44-40cb-88f4-afdda5277cae button.colab-df-convert');\n",
              "        buttonEl.style.display =\n",
              "          google.colab.kernel.accessAllowed ? 'block' : 'none';\n",
              "\n",
              "        async function convertToInteractive(key) {\n",
              "          const element = document.querySelector('#df-65560cd2-0a44-40cb-88f4-afdda5277cae');\n",
              "          const dataTable =\n",
              "            await google.colab.kernel.invokeFunction('convertToInteractive',\n",
              "                                                     [key], {});\n",
              "          if (!dataTable) return;\n",
              "\n",
              "          const docLinkHtml = 'Like what you see? Visit the ' +\n",
              "            '<a target=\"_blank\" href=https://colab.research.google.com/notebooks/data_table.ipynb>data table notebook</a>'\n",
              "            + ' to learn more about interactive tables.';\n",
              "          element.innerHTML = '';\n",
              "          dataTable['output_type'] = 'display_data';\n",
              "          await google.colab.output.renderOutput(dataTable, element);\n",
              "          const docLink = document.createElement('div');\n",
              "          docLink.innerHTML = docLinkHtml;\n",
              "          element.appendChild(docLink);\n",
              "        }\n",
              "      </script>\n",
              "    </div>\n",
              "  </div>\n",
              "  "
            ],
            "text/plain": [
              "Symbols           AAPL        BABA         IBM        MSFT        TSLA\n",
              "Date                                                                  \n",
              "2020-01-02   75.087502  219.770004  129.464630  160.619995   28.684000\n",
              "2020-01-03   74.357498  217.000000  128.432129  158.619995   29.534000\n",
              "2020-01-06   74.949997  216.639999  128.202682  159.029999   30.102667\n",
              "2020-01-07   74.597504  217.630005  128.288712  157.580002   31.270666\n",
              "2020-01-08   75.797501  218.000000  129.359467  160.089996   32.809334\n",
              "...                ...         ...         ...         ...         ...\n",
              "2022-08-29  161.380005   96.599998  130.309998  265.230011  284.820007\n",
              "2022-08-30  158.910004   93.839996  129.580002  262.970001  277.700012\n",
              "2022-08-31  157.220001   95.410004  128.449997  261.470001  275.609985\n",
              "2022-09-01  157.960007   93.709999  129.660004  260.399994  277.160004\n",
              "2022-09-02  155.809998   91.800003  127.790001  256.059998  270.209991\n",
              "\n",
              "[674 rows x 5 columns]"
            ]
          },
          "execution_count": 37,
          "metadata": {},
          "output_type": "execute_result"
        }
      ],
      "source": [
        "stock"
      ]
    },
    {
      "cell_type": "markdown",
      "metadata": {
        "id": "T8kG8jiL-bVR"
      },
      "source": [
        "## Clustering"
      ]
    },
    {
      "cell_type": "code",
      "execution_count": null,
      "metadata": {
        "colab": {
          "base_uri": "https://localhost:8080/"
        },
        "id": "UEVOqP-o-bVR",
        "outputId": "fa5aba66-3997-455f-8927-1d89afba0cc9"
      },
      "outputs": [
        {
          "name": "stdout",
          "output_type": "stream",
          "text": [
            "   labels                 stocks\n",
            "0       0          (Apple, AAPL)\n",
            "2       1             (IBM, IBM)\n",
            "1       2  (Alibaba Group, BABA)\n",
            "4       3       (Tsla Inc, TSLA)\n",
            "3       4      (Microsoft, MSFT)\n"
          ]
        }
      ],
      "source": [
        "# Predict the cluster labels\n",
        "labels = pipeline.predict(movements)\n",
        "\n",
        "# Create a DataFrame aligning labels and stock\n",
        "df = pd.DataFrame({'labels':labels, 'stocks': stocks})\n",
        "\n",
        "# Display df sorted by cluster label\n",
        "print(df.sort_values('labels'))"
      ]
    },
    {
      "cell_type": "markdown",
      "metadata": {
        "id": "05XtcKwq-bVS"
      },
      "source": [
        "## Dimensionality Reduction with PCA"
      ]
    },
    {
      "cell_type": "code",
      "execution_count": null,
      "metadata": {
        "colab": {
          "base_uri": "https://localhost:8080/"
        },
        "id": "BlZf6Rgs-bVS",
        "outputId": "8a9372b6-e45a-420d-e081-e92aaf2411ad"
      },
      "outputs": [
        {
          "name": "stdout",
          "output_type": "stream",
          "text": [
            "0.0\n",
            "   labels                 stocks\n",
            "3       0      (Microsoft, MSFT)\n",
            "2       1             (IBM, IBM)\n",
            "1       2  (Alibaba Group, BABA)\n",
            "4       3       (Tsla Inc, TSLA)\n",
            "0       4          (Apple, AAPL)\n"
          ]
        }
      ],
      "source": [
        "from sklearn.decomposition import PCA\n",
        "\n",
        "# Visualize the results on PCA-reduced data\n",
        "reduced_data = PCA(n_components=2).fit_transform(new)\n",
        "\n",
        "# Run kmeans on the reduced data\n",
        "kmeans = KMeans(n_clusters=5)\n",
        "kmeans.fit(reduced_data)\n",
        "labels = kmeans.predict(reduced_data)\n",
        "\n",
        "print(kmeans.inertia_)\n",
        "\n",
        "# Create a DataFrame aligning labels and stock\n",
        "df = pd.DataFrame({'labels':labels, 'stocks':stocks})\n",
        "print(df.sort_values('labels'))"
      ]
    },
    {
      "cell_type": "markdown",
      "metadata": {
        "id": "MfbDb6-0nyZd"
      },
      "source": [
        "* The weights of the 5 stocks after clustering results shows that TSLA is the best portfolio among others"
      ]
    },
    {
      "cell_type": "markdown",
      "metadata": {
        "id": "a6G1ML4m-bVS"
      },
      "source": [
        "## Visualize cluster"
      ]
    },
    {
      "cell_type": "code",
      "execution_count": null,
      "metadata": {
        "colab": {
          "base_uri": "https://localhost:8080/",
          "height": 607
        },
        "id": "Oy-lb6iW-bVT",
        "outputId": "5108e2fa-4e22-4ff1-d5c0-6ab123ed1493"
      },
      "outputs": [
        {
          "data": {
            "image/png": "[encoded data removed]",
            "text/plain": [
              "<Figure size 720x720 with 1 Axes>"
            ]
          },
          "metadata": {
            "needs_background": "light"
          },
          "output_type": "display_data"
        }
      ],
      "source": [
        "# Define step size of mesh\n",
        "h = 0.01\n",
        "\n",
        "# Plot the decision boundary (+- 1 for padding)\n",
        "x_min, x_max = reduced_data[:, 0].min() - 1, reduced_data[:, 0].max() + 1\n",
        "y_min, y_max = reduced_data[:, 1].min() - 1, reduced_data[:, 1].max() + 1\n",
        "\n",
        "xx, yy = np.meshgrid(np.arange(x_min, x_max, h), np.arange(y_min, y_max, h))\n",
        "\n",
        "# Obtain labels for each point in the mesh using our trained model\n",
        "Z = kmeans.predict(np.c_[xx.ravel(), yy.ravel()])\n",
        "\n",
        "# Put the result into a color plot\n",
        "Z = Z.reshape(xx.shape)\n",
        "\n",
        "# Define colorplot\n",
        "cmap = plt.cm.Paired\n",
        "\n",
        "# Plot figure\n",
        "plt.figure(figsize=(10, 10))\n",
        "plt.imshow(Z, interpolation='nearest', extent=(xx.min(), xx.max(), yy.min(), yy.max()),\n",
        "           cmap = cmap, aspect='auto', origin='lower');\n",
        "plt.plot(reduced_data[:, 0], reduced_data[:, 1], 'k.', markersize=5);\n",
        "\n",
        "# Plot the centroids of each cluster as a white X\n",
        "centroids = kmeans.cluster_centers_\n",
        "plt.scatter(centroids[:, 0], centroids[:, 1], marker='x', s=169, linewidths=3, color='w', zorder=10);\n",
        "plt.title('K-Means clustering on Stock Market Movements (PCA-Reduced Data)');\n",
        "plt.xlim(x_min, x_max);\n",
        "plt.ylim(y_min, y_max);"
      ]
    },
    {
      "cell_type": "markdown",
      "metadata": {
        "id": "8gOmYWj3fvN0"
      },
      "source": [
        "From the view of our unsupervised learning;\n",
        "* Normalizing securities will make results better.\n",
        "* The average daily returns of TSLA are still much better than the rest of stocks after Clustering. \n",
        "* TSLA is the best portfolio among 5. "
      ]
    },
    {
      "cell_type": "markdown",
      "metadata": {
        "id": "9GLe3oCJf10k"
      },
      "source": [
        "## Backtesting for stock selection"
      ]
    },
    {
      "cell_type": "code",
      "execution_count": null,
      "metadata": {
        "id": "K4bTGZoRVgYd"
      },
      "outputs": [],
      "source": [
        "# Data visualization with plotnine\n",
        "from plotnine import *\n",
        "import plotnine\n",
        "\n",
        "# Autocorrelation\n",
        "import matplotlib.pyplot as plt\n",
        "import statsmodels.api as sm\n",
        "\n",
        "# Table styling\n",
        "import seaborn as sns\n",
        "cm = sns.light_palette('green', as_cmap = True)\n",
        "\n",
        "# Cross validation and data partitioning\n",
        "from sklearn.model_selection import cross_val_score\n",
        "from sklearn.model_selection import train_test_split\n",
        "from sklearn.model_selection import TimeSeriesSplit\n",
        "from sklearn.model_selection import KFold\n",
        "\n",
        "# Grid-search\n",
        "from sklearn.model_selection import GridSearchCV\n",
        "\n",
        "# Data modelling\n",
        "from sklearn.ensemble import RandomForestRegressor\n",
        "\n",
        "# Evaluation\n",
        "from sklearn.metrics import make_scorer\n",
        "from sklearn.metrics import mean_squared_error"
      ]
    },
    {
      "cell_type": "code",
      "execution_count": null,
      "metadata": {
        "id": "K7Qt1GTXIgp7"
      },
      "outputs": [],
      "source": [
        "df = stock"
      ]
    },
    {
      "cell_type": "code",
      "execution_count": null,
      "metadata": {
        "id": "qzyCoRQtIkgs"
      },
      "outputs": [],
      "source": [
        "# Data aggregation\n",
        "df_avg = df.groupby(['Date']).mean().reset_index()\n",
        "# Date type for Date\n",
        "df_avg['Date'] = df_avg['Date'].astype('datetime64[ns]')"
      ]
    },
    {
      "cell_type": "code",
      "execution_count": null,
      "metadata": {
        "colab": {
          "base_uri": "https://localhost:8080/",
          "height": 224
        },
        "id": "y5ENO8LKIlgA",
        "outputId": "cab7dab7-b159-48da-a91e-4bd90cc8c144"
      },
      "outputs": [
        {
          "name": "stdout",
          "output_type": "stream",
          "text": [
            "Dimension data: 674 rows and 6 columns\n"
          ]
        },
        {
          "data": {
            "text/html": [
              "\n",
              "  <div id=\"df-37c73dca-fcf4-441e-a6bc-26100bb30bbc\">\n",
              "    <div class=\"colab-df-container\">\n",
              "      <div>\n",
              "<style scoped>\n",
              "    .dataframe tbody tr th:only-of-type {\n",
              "        vertical-align: middle;\n",
              "    }\n",
              "\n",
              "    .dataframe tbody tr th {\n",
              "        vertical-align: top;\n",
              "    }\n",
              "\n",
              "    .dataframe thead th {\n",
              "        text-align: right;\n",
              "    }\n",
              "</style>\n",
              "<table border=\"1\" class=\"dataframe\">\n",
              "  <thead>\n",
              "    <tr style=\"text-align: right;\">\n",
              "      <th>Symbols</th>\n",
              "      <th>Date</th>\n",
              "      <th>AAPL</th>\n",
              "      <th>BABA</th>\n",
              "      <th>IBM</th>\n",
              "      <th>MSFT</th>\n",
              "      <th>TSLA</th>\n",
              "    </tr>\n",
              "  </thead>\n",
              "  <tbody>\n",
              "    <tr>\n",
              "      <th>0</th>\n",
              "      <td>2020-01-02</td>\n",
              "      <td>75.087502</td>\n",
              "      <td>219.770004</td>\n",
              "      <td>129.464630</td>\n",
              "      <td>160.619995</td>\n",
              "      <td>28.684000</td>\n",
              "    </tr>\n",
              "    <tr>\n",
              "      <th>1</th>\n",
              "      <td>2020-01-03</td>\n",
              "      <td>74.357498</td>\n",
              "      <td>217.000000</td>\n",
              "      <td>128.432129</td>\n",
              "      <td>158.619995</td>\n",
              "      <td>29.534000</td>\n",
              "    </tr>\n",
              "    <tr>\n",
              "      <th>2</th>\n",
              "      <td>2020-01-06</td>\n",
              "      <td>74.949997</td>\n",
              "      <td>216.639999</td>\n",
              "      <td>128.202682</td>\n",
              "      <td>159.029999</td>\n",
              "      <td>30.102667</td>\n",
              "    </tr>\n",
              "    <tr>\n",
              "      <th>3</th>\n",
              "      <td>2020-01-07</td>\n",
              "      <td>74.597504</td>\n",
              "      <td>217.630005</td>\n",
              "      <td>128.288712</td>\n",
              "      <td>157.580002</td>\n",
              "      <td>31.270666</td>\n",
              "    </tr>\n",
              "    <tr>\n",
              "      <th>4</th>\n",
              "      <td>2020-01-08</td>\n",
              "      <td>75.797501</td>\n",
              "      <td>218.000000</td>\n",
              "      <td>129.359467</td>\n",
              "      <td>160.089996</td>\n",
              "      <td>32.809334</td>\n",
              "    </tr>\n",
              "  </tbody>\n",
              "</table>\n",
              "</div>\n",
              "      <button class=\"colab-df-convert\" onclick=\"convertToInteractive('df-37c73dca-fcf4-441e-a6bc-26100bb30bbc')\"\n",
              "              title=\"Convert this dataframe to an interactive table.\"\n",
              "              style=\"display:none;\">\n",
              "        \n",
              "  <svg xmlns=\"http://www.w3.org/2000/svg\" height=\"24px\"viewBox=\"0 0 24 24\"\n",
              "       width=\"24px\">\n",
              "    <path d=\"M0 0h24v24H0V0z\" fill=\"none\"/>\n",
              "    <path d=\"M18.56 5.44l.94 2.06.94-2.06 2.06-.94-2.06-.94-.94-2.06-.94 2.06-2.06.94zm-11 1L8.5 8.5l.94-2.06 2.06-.94-2.06-.94L8.5 2.5l-.94 2.06-2.06.94zm10 10l.94 2.06.94-2.06 2.06-.94-2.06-.94-.94-2.06-.94 2.06-2.06.94z\"/><path d=\"M17.41 7.96l-1.37-1.37c-.4-.4-.92-.59-1.43-.59-.52 0-1.04.2-1.43.59L10.3 9.45l-7.72 7.72c-.78.78-.78 2.05 0 2.83L4 21.41c.39.39.9.59 1.41.59.51 0 1.02-.2 1.41-.59l7.78-7.78 2.81-2.81c.8-.78.8-2.07 0-2.86zM5.41 20L4 18.59l7.72-7.72 1.47 1.35L5.41 20z\"/>\n",
              "  </svg>\n",
              "      </button>\n",
              "      \n",
              "  <style>\n",
              "    .colab-df-container {\n",
              "      display:flex;\n",
              "      flex-wrap:wrap;\n",
              "      gap: 12px;\n",
              "    }\n",
              "\n",
              "    .colab-df-convert {\n",
              "      background-color: #E8F0FE;\n",
              "      border: none;\n",
              "      border-radius: 50%;\n",
              "      cursor: pointer;\n",
              "      display: none;\n",
              "      fill: #1967D2;\n",
              "      height: 32px;\n",
              "      padding: 0 0 0 0;\n",
              "      width: 32px;\n",
              "    }\n",
              "\n",
              "    .colab-df-convert:hover {\n",
              "      background-color: #E2EBFA;\n",
              "      box-shadow: 0px 1px 2px rgba(60, 64, 67, 0.3), 0px 1px 3px 1px rgba(60, 64, 67, 0.15);\n",
              "      fill: #174EA6;\n",
              "    }\n",
              "\n",
              "    [theme=dark] .colab-df-convert {\n",
              "      background-color: #3B4455;\n",
              "      fill: #D2E3FC;\n",
              "    }\n",
              "\n",
              "    [theme=dark] .colab-df-convert:hover {\n",
              "      background-color: #434B5C;\n",
              "      box-shadow: 0px 1px 3px 1px rgba(0, 0, 0, 0.15);\n",
              "      filter: drop-shadow(0px 1px 2px rgba(0, 0, 0, 0.3));\n",
              "      fill: #FFFFFF;\n",
              "    }\n",
              "  </style>\n",
              "\n",
              "      <script>\n",
              "        const buttonEl =\n",
              "          document.querySelector('#df-37c73dca-fcf4-441e-a6bc-26100bb30bbc button.colab-df-convert');\n",
              "        buttonEl.style.display =\n",
              "          google.colab.kernel.accessAllowed ? 'block' : 'none';\n",
              "\n",
              "        async function convertToInteractive(key) {\n",
              "          const element = document.querySelector('#df-37c73dca-fcf4-441e-a6bc-26100bb30bbc');\n",
              "          const dataTable =\n",
              "            await google.colab.kernel.invokeFunction('convertToInteractive',\n",
              "                                                     [key], {});\n",
              "          if (!dataTable) return;\n",
              "\n",
              "          const docLinkHtml = 'Like what you see? Visit the ' +\n",
              "            '<a target=\"_blank\" href=https://colab.research.google.com/notebooks/data_table.ipynb>data table notebook</a>'\n",
              "            + ' to learn more about interactive tables.';\n",
              "          element.innerHTML = '';\n",
              "          dataTable['output_type'] = 'display_data';\n",
              "          await google.colab.output.renderOutput(dataTable, element);\n",
              "          const docLink = document.createElement('div');\n",
              "          docLink.innerHTML = docLinkHtml;\n",
              "          element.appendChild(docLink);\n",
              "        }\n",
              "      </script>\n",
              "    </div>\n",
              "  </div>\n",
              "  "
            ],
            "text/plain": [
              "Symbols       Date       AAPL        BABA         IBM        MSFT       TSLA\n",
              "0       2020-01-02  75.087502  219.770004  129.464630  160.619995  28.684000\n",
              "1       2020-01-03  74.357498  217.000000  128.432129  158.619995  29.534000\n",
              "2       2020-01-06  74.949997  216.639999  128.202682  159.029999  30.102667\n",
              "3       2020-01-07  74.597504  217.630005  128.288712  157.580002  31.270666\n",
              "4       2020-01-08  75.797501  218.000000  129.359467  160.089996  32.809334"
            ]
          },
          "execution_count": 44,
          "metadata": {},
          "output_type": "execute_result"
        }
      ],
      "source": [
        "print('Dimension data: {} rows and {} columns'.format(\n",
        "    len(df_avg),\n",
        "    len(df_avg.columns))\n",
        ")\n",
        "df_avg.head()"
      ]
    },
    {
      "cell_type": "code",
      "execution_count": null,
      "metadata": {
        "id": "WQc-vVJMI1U8"
      },
      "outputs": [],
      "source": [
        "# Split into training data and testing data\n",
        "df_train = df.iloc[:(len(df) - 100), :]\n",
        "df_test = df.iloc[(len(df) - 100):, :]"
      ]
    },
    {
      "cell_type": "code",
      "execution_count": null,
      "metadata": {
        "colab": {
          "base_uri": "https://localhost:8080/",
          "height": 238
        },
        "id": "dJhmGU23JEzt",
        "outputId": "86beb827-126b-4618-eddb-39c4290ece45"
      },
      "outputs": [
        {
          "data": {
            "text/html": [
              "\n",
              "  <div id=\"df-840496a8-fb87-48be-8405-d857cda0e226\">\n",
              "    <div class=\"colab-df-container\">\n",
              "      <div>\n",
              "<style scoped>\n",
              "    .dataframe tbody tr th:only-of-type {\n",
              "        vertical-align: middle;\n",
              "    }\n",
              "\n",
              "    .dataframe tbody tr th {\n",
              "        vertical-align: top;\n",
              "    }\n",
              "\n",
              "    .dataframe thead th {\n",
              "        text-align: right;\n",
              "    }\n",
              "</style>\n",
              "<table border=\"1\" class=\"dataframe\">\n",
              "  <thead>\n",
              "    <tr style=\"text-align: right;\">\n",
              "      <th>Symbols</th>\n",
              "      <th>AAPL</th>\n",
              "      <th>BABA</th>\n",
              "      <th>IBM</th>\n",
              "      <th>MSFT</th>\n",
              "      <th>TSLA</th>\n",
              "    </tr>\n",
              "    <tr>\n",
              "      <th>Date</th>\n",
              "      <th></th>\n",
              "      <th></th>\n",
              "      <th></th>\n",
              "      <th></th>\n",
              "      <th></th>\n",
              "    </tr>\n",
              "  </thead>\n",
              "  <tbody>\n",
              "    <tr>\n",
              "      <th>2022-04-05</th>\n",
              "      <td>175.059998</td>\n",
              "      <td>111.000000</td>\n",
              "      <td>128.889999</td>\n",
              "      <td>310.880005</td>\n",
              "      <td>363.753326</td>\n",
              "    </tr>\n",
              "    <tr>\n",
              "      <th>2022-04-06</th>\n",
              "      <td>171.830002</td>\n",
              "      <td>107.680000</td>\n",
              "      <td>129.389999</td>\n",
              "      <td>299.500000</td>\n",
              "      <td>348.586670</td>\n",
              "    </tr>\n",
              "    <tr>\n",
              "      <th>2022-04-07</th>\n",
              "      <td>172.139999</td>\n",
              "      <td>104.269997</td>\n",
              "      <td>128.550003</td>\n",
              "      <td>301.369995</td>\n",
              "      <td>352.420013</td>\n",
              "    </tr>\n",
              "    <tr>\n",
              "      <th>2022-04-08</th>\n",
              "      <td>170.089996</td>\n",
              "      <td>103.529999</td>\n",
              "      <td>127.730003</td>\n",
              "      <td>296.970001</td>\n",
              "      <td>341.829987</td>\n",
              "    </tr>\n",
              "    <tr>\n",
              "      <th>2022-04-11</th>\n",
              "      <td>165.750000</td>\n",
              "      <td>101.550003</td>\n",
              "      <td>126.370003</td>\n",
              "      <td>285.260010</td>\n",
              "      <td>325.309998</td>\n",
              "    </tr>\n",
              "  </tbody>\n",
              "</table>\n",
              "</div>\n",
              "      <button class=\"colab-df-convert\" onclick=\"convertToInteractive('df-840496a8-fb87-48be-8405-d857cda0e226')\"\n",
              "              title=\"Convert this dataframe to an interactive table.\"\n",
              "              style=\"display:none;\">\n",
              "        \n",
              "  <svg xmlns=\"http://www.w3.org/2000/svg\" height=\"24px\"viewBox=\"0 0 24 24\"\n",
              "       width=\"24px\">\n",
              "    <path d=\"M0 0h24v24H0V0z\" fill=\"none\"/>\n",
              "    <path d=\"M18.56 5.44l.94 2.06.94-2.06 2.06-.94-2.06-.94-.94-2.06-.94 2.06-2.06.94zm-11 1L8.5 8.5l.94-2.06 2.06-.94-2.06-.94L8.5 2.5l-.94 2.06-2.06.94zm10 10l.94 2.06.94-2.06 2.06-.94-2.06-.94-.94-2.06-.94 2.06-2.06.94z\"/><path d=\"M17.41 7.96l-1.37-1.37c-.4-.4-.92-.59-1.43-.59-.52 0-1.04.2-1.43.59L10.3 9.45l-7.72 7.72c-.78.78-.78 2.05 0 2.83L4 21.41c.39.39.9.59 1.41.59.51 0 1.02-.2 1.41-.59l7.78-7.78 2.81-2.81c.8-.78.8-2.07 0-2.86zM5.41 20L4 18.59l7.72-7.72 1.47 1.35L5.41 20z\"/>\n",
              "  </svg>\n",
              "      </button>\n",
              "      \n",
              "  <style>\n",
              "    .colab-df-container {\n",
              "      display:flex;\n",
              "      flex-wrap:wrap;\n",
              "      gap: 12px;\n",
              "    }\n",
              "\n",
              "    .colab-df-convert {\n",
              "      background-color: #E8F0FE;\n",
              "      border: none;\n",
              "      border-radius: 50%;\n",
              "      cursor: pointer;\n",
              "      display: none;\n",
              "      fill: #1967D2;\n",
              "      height: 32px;\n",
              "      padding: 0 0 0 0;\n",
              "      width: 32px;\n",
              "    }\n",
              "\n",
              "    .colab-df-convert:hover {\n",
              "      background-color: #E2EBFA;\n",
              "      box-shadow: 0px 1px 2px rgba(60, 64, 67, 0.3), 0px 1px 3px 1px rgba(60, 64, 67, 0.15);\n",
              "      fill: #174EA6;\n",
              "    }\n",
              "\n",
              "    [theme=dark] .colab-df-convert {\n",
              "      background-color: #3B4455;\n",
              "      fill: #D2E3FC;\n",
              "    }\n",
              "\n",
              "    [theme=dark] .colab-df-convert:hover {\n",
              "      background-color: #434B5C;\n",
              "      box-shadow: 0px 1px 3px 1px rgba(0, 0, 0, 0.15);\n",
              "      filter: drop-shadow(0px 1px 2px rgba(0, 0, 0, 0.3));\n",
              "      fill: #FFFFFF;\n",
              "    }\n",
              "  </style>\n",
              "\n",
              "      <script>\n",
              "        const buttonEl =\n",
              "          document.querySelector('#df-840496a8-fb87-48be-8405-d857cda0e226 button.colab-df-convert');\n",
              "        buttonEl.style.display =\n",
              "          google.colab.kernel.accessAllowed ? 'block' : 'none';\n",
              "\n",
              "        async function convertToInteractive(key) {\n",
              "          const element = document.querySelector('#df-840496a8-fb87-48be-8405-d857cda0e226');\n",
              "          const dataTable =\n",
              "            await google.colab.kernel.invokeFunction('convertToInteractive',\n",
              "                                                     [key], {});\n",
              "          if (!dataTable) return;\n",
              "\n",
              "          const docLinkHtml = 'Like what you see? Visit the ' +\n",
              "            '<a target=\"_blank\" href=https://colab.research.google.com/notebooks/data_table.ipynb>data table notebook</a>'\n",
              "            + ' to learn more about interactive tables.';\n",
              "          element.innerHTML = '';\n",
              "          dataTable['output_type'] = 'display_data';\n",
              "          await google.colab.output.renderOutput(dataTable, element);\n",
              "          const docLink = document.createElement('div');\n",
              "          docLink.innerHTML = docLinkHtml;\n",
              "          element.appendChild(docLink);\n",
              "        }\n",
              "      </script>\n",
              "    </div>\n",
              "  </div>\n",
              "  "
            ],
            "text/plain": [
              "Symbols           AAPL        BABA         IBM        MSFT        TSLA\n",
              "Date                                                                  \n",
              "2022-04-05  175.059998  111.000000  128.889999  310.880005  363.753326\n",
              "2022-04-06  171.830002  107.680000  129.389999  299.500000  348.586670\n",
              "2022-04-07  172.139999  104.269997  128.550003  301.369995  352.420013\n",
              "2022-04-08  170.089996  103.529999  127.730003  296.970001  341.829987\n",
              "2022-04-11  165.750000  101.550003  126.370003  285.260010  325.309998"
            ]
          },
          "execution_count": 46,
          "metadata": {},
          "output_type": "execute_result"
        }
      ],
      "source": [
        "# Training data\n",
        "df_train.tail()"
      ]
    },
    {
      "cell_type": "code",
      "execution_count": null,
      "metadata": {
        "id": "Hlk--ysAKGjs"
      },
      "outputs": [],
      "source": [
        "# Data partitioning - split training data into training and validation\n",
        "X = df_train[df_train.columns[~df_train.columns.isin(\n",
        "    ['Date', 'Time', 'TSLA'])]]\n",
        "y = df_train['TSLA']\n",
        "\n",
        "# Testing\n",
        "X_test = df_test[df_test.columns[~df_test.columns.isin(\n",
        "    ['Date', 'Time', 'TSLA'])]]"
      ]
    },
    {
      "cell_type": "markdown",
      "metadata": {
        "id": "pdY0iB8HJMNx"
      },
      "source": [
        "## Walk-Forward Optimization and Cross-Validation Technique\n",
        "#### Data modelling - with parameters tuning"
      ]
    },
    {
      "cell_type": "code",
      "execution_count": null,
      "metadata": {
        "id": "7kBAzosYJHh_"
      },
      "outputs": [],
      "source": [
        "# Number of trees in random forest\n",
        "n_estimators = [int(x) for x in np.linspace(\n",
        "    start = 200,\n",
        "    stop = 2000,\n",
        "    num = 2)]\n",
        "# Number of features to consider at every split\n",
        "max_features = ['auto', 'sqrt']\n",
        "# Maximum number of levels in tree\n",
        "max_depth = [int(x) for x in np.linspace(10, 50, num = 2)]\n",
        "max_depth.append(None)\n",
        "# Minimum number of samples required to split a node\n",
        "min_samples_split = [2, 5]\n",
        "# Minimum number of samples required at each leaf node\n",
        "min_samples_leaf = [1, 2]\n",
        "# Method of selecting samples for training each tree\n",
        "bootstrap = [True, False]\n",
        "# Create the random grid\n",
        "random_grid = {'n_estimators': n_estimators,\n",
        "               'max_depth': max_depth,\n",
        "               'min_samples_leaf': min_samples_leaf}\n",
        "scorers = {\n",
        "            'mean_squared_error': make_scorer(mean_squared_error)\n",
        "}"
      ]
    },
    {
      "cell_type": "code",
      "execution_count": null,
      "metadata": {
        "colab": {
          "base_uri": "https://localhost:8080/"
        },
        "id": "Zef9GLb7MfoG",
        "outputId": "182b8573-c766-4c96-bbaf-f2f0f1f6bcea"
      },
      "outputs": [
        {
          "data": {
            "text/plain": [
              "{'n_estimators': [200, 2000],\n",
              " 'max_depth': [10, 50, None],\n",
              " 'min_samples_leaf': [1, 2]}"
            ]
          },
          "execution_count": 49,
          "metadata": {},
          "output_type": "execute_result"
        }
      ],
      "source": [
        "random_grid"
      ]
    },
    {
      "cell_type": "code",
      "execution_count": null,
      "metadata": {
        "id": "EaFBOA98MMWC"
      },
      "outputs": [],
      "source": [
        "# # Define the model\n",
        "randomForest = RandomForestRegressor()"
      ]
    },
    {
      "cell_type": "markdown",
      "metadata": {
        "id": "gfg09dZVPy_L"
      },
      "source": [
        "#### Anchored walk-forward optimization"
      ]
    },
    {
      "cell_type": "code",
      "execution_count": null,
      "metadata": {
        "id": "FvMTOLvXKUMu"
      },
      "outputs": [],
      "source": [
        "# Grid-search\n",
        "tscv = TimeSeriesSplit(n_splits = 10)\n",
        "gridSearch = GridSearchCV(\n",
        "    estimator = randomForest,\n",
        "    param_grid = random_grid,\n",
        "    scoring = scorers,\n",
        "    cv = tscv,\n",
        "    verbose = 3,\n",
        "    refit = 'mean_squared_error',\n",
        "    n_jobs = -1\n",
        ")"
      ]
    },
    {
      "cell_type": "code",
      "execution_count": null,
      "metadata": {
        "colab": {
          "base_uri": "https://localhost:8080/"
        },
        "id": "R8-Q4AOhMFkp",
        "outputId": "cf7850c8-95ba-478e-8681-24faad1430ec"
      },
      "outputs": [
        {
          "name": "stdout",
          "output_type": "stream",
          "text": [
            "Fitting 10 folds for each of 12 candidates, totalling 120 fits\n"
          ]
        },
        {
          "data": {
            "text/plain": [
              "GridSearchCV(cv=TimeSeriesSplit(gap=0, max_train_size=None, n_splits=10, test_size=None),\n",
              "             estimator=RandomForestRegressor(), n_jobs=-1,\n",
              "             param_grid={'max_depth': [10, 50, None],\n",
              "                         'min_samples_leaf': [1, 2],\n",
              "                         'n_estimators': [200, 2000]},\n",
              "             refit='mean_squared_error',\n",
              "             scoring={'mean_squared_error': make_scorer(mean_squared_error)},\n",
              "             verbose=3)"
            ]
          },
          "execution_count": 52,
          "metadata": {},
          "output_type": "execute_result"
        }
      ],
      "source": [
        "# Fit the model\n",
        "gridSearch.fit(X, y)\n"
      ]
    },
    {
      "cell_type": "code",
      "execution_count": null,
      "metadata": {
        "colab": {
          "base_uri": "https://localhost:8080/"
        },
        "id": "pkr_JFbTM1rD",
        "outputId": "7d02c323-82cb-4cfc-b4c0-61b5f02f6d4d"
      },
      "outputs": [
        {
          "data": {
            "text/plain": [
              "{'max_depth': None, 'min_samples_leaf': 2, 'n_estimators': 200}"
            ]
          },
          "execution_count": 53,
          "metadata": {},
          "output_type": "execute_result"
        }
      ],
      "source": [
        "# Best parameters\n",
        "gridSearch.best_params_"
      ]
    },
    {
      "cell_type": "code",
      "execution_count": null,
      "metadata": {
        "colab": {
          "base_uri": "https://localhost:8080/"
        },
        "id": "OONRspEbNF7N",
        "outputId": "530b0470-2fe6-4611-f7ce-50451a2be7c8"
      },
      "outputs": [
        {
          "data": {
            "text/plain": [
              "2477.954246162734"
            ]
          },
          "execution_count": 54,
          "metadata": {},
          "output_type": "execute_result"
        }
      ],
      "source": [
        "# Best score\n",
        "gridSearch.best_score_"
      ]
    },
    {
      "cell_type": "markdown",
      "metadata": {
        "id": "-HcA9b31NRYG"
      },
      "source": [
        "#### Non-anchored walk-forward optimization"
      ]
    },
    {
      "cell_type": "code",
      "execution_count": null,
      "metadata": {
        "id": "GjOZYh4BRFEU"
      },
      "outputs": [],
      "source": [
        "# Function for non-anchored walk-forward optimization\n",
        "class NonAnchoredTimeSeriesSplit():\n",
        "    def __init__(self, n_splits):\n",
        "        self.n_splits = n_splits\n",
        "    \n",
        "    def get_n_splits(self, X, y, groups):\n",
        "        return self.n_splits\n",
        "    \n",
        "    def split(self, X, y = None, groups = None):\n",
        "        n_samples = len(X)\n",
        "        k_fold_size = n_samples // self.n_splits\n",
        "        indices = np.arange(n_samples)\n",
        "\n",
        "        margin = 0\n",
        "        for i in range(self.n_splits):\n",
        "            start = i * k_fold_size\n",
        "            stop = start + k_fold_size\n",
        "            mid = int(0.8 * (stop - start)) + start\n",
        "            yield indices[start: mid], indices[mid + margin: stop]"
      ]
    },
    {
      "cell_type": "code",
      "execution_count": null,
      "metadata": {
        "id": "wnVWhTBNQetc"
      },
      "outputs": [],
      "source": [
        "# Grid-search\n",
        "ntscv = NonAnchoredTimeSeriesSplit(n_splits = 10)\n",
        "gridSearch = GridSearchCV(\n",
        "    estimator = randomForest,\n",
        "    param_grid = random_grid,\n",
        "    scoring = scorers,\n",
        "    cv = ntscv,\n",
        "    verbose = 3,\n",
        "    refit = 'mean_squared_error',\n",
        "    n_jobs = -1\n",
        ")"
      ]
    },
    {
      "cell_type": "code",
      "execution_count": null,
      "metadata": {
        "colab": {
          "base_uri": "https://localhost:8080/"
        },
        "id": "rox5As_NQeom",
        "outputId": "68ebd9a7-3795-414b-968a-002d331ff124"
      },
      "outputs": [
        {
          "name": "stdout",
          "output_type": "stream",
          "text": [
            "Fitting 10 folds for each of 12 candidates, totalling 120 fits\n"
          ]
        },
        {
          "data": {
            "text/plain": [
              "GridSearchCV(cv=<__main__.NonAnchoredTimeSeriesSplit object at 0x7f029eb89bd0>,\n",
              "             estimator=RandomForestRegressor(), n_jobs=-1,\n",
              "             param_grid={'max_depth': [10, 50, None],\n",
              "                         'min_samples_leaf': [1, 2],\n",
              "                         'n_estimators': [200, 2000]},\n",
              "             refit='mean_squared_error',\n",
              "             scoring={'mean_squared_error': make_scorer(mean_squared_error)},\n",
              "             verbose=3)"
            ]
          },
          "execution_count": 57,
          "metadata": {},
          "output_type": "execute_result"
        }
      ],
      "source": [
        "# Fit the model\n",
        "gridSearch.fit(X, y)"
      ]
    },
    {
      "cell_type": "code",
      "execution_count": null,
      "metadata": {
        "colab": {
          "base_uri": "https://localhost:8080/"
        },
        "id": "CsJMh2TLQehL",
        "outputId": "bcc30419-bddb-4e82-8800-e4568c273e30"
      },
      "outputs": [
        {
          "data": {
            "text/plain": [
              "{'max_depth': 10, 'min_samples_leaf': 2, 'n_estimators': 200}"
            ]
          },
          "execution_count": 58,
          "metadata": {},
          "output_type": "execute_result"
        }
      ],
      "source": [
        "# Best parameters\n",
        "gridSearch.best_params_"
      ]
    },
    {
      "cell_type": "code",
      "execution_count": null,
      "metadata": {
        "colab": {
          "base_uri": "https://localhost:8080/"
        },
        "id": "VtaCaNxxQeZq",
        "outputId": "fafa1953-4384-4978-ffb6-433794ecc00f"
      },
      "outputs": [
        {
          "data": {
            "text/plain": [
              "840.4953182269268"
            ]
          },
          "execution_count": 59,
          "metadata": {},
          "output_type": "execute_result"
        }
      ],
      "source": [
        "# Best score\n",
        "gridSearch.best_score_"
      ]
    },
    {
      "cell_type": "markdown",
      "metadata": {
        "id": "oNBORODINjai"
      },
      "source": [
        "#### k-fold cross validation"
      ]
    },
    {
      "cell_type": "code",
      "execution_count": null,
      "metadata": {
        "id": "DzWWcfysNga_"
      },
      "outputs": [],
      "source": [
        "# Grid-search\n",
        "kfcv = KFold(n_splits = 10)\n",
        "gridSearch = GridSearchCV(\n",
        "    estimator = randomForest,\n",
        "    param_grid = random_grid,\n",
        "    scoring = scorers,\n",
        "    cv = kfcv,\n",
        "    verbose = 3,\n",
        "    refit = 'mean_squared_error',\n",
        "    n_jobs = -1\n",
        ")"
      ]
    },
    {
      "cell_type": "code",
      "execution_count": null,
      "metadata": {
        "colab": {
          "base_uri": "https://localhost:8080/"
        },
        "id": "Sm7y2z4iNoGq",
        "outputId": "ab12b45d-8b37-475a-d158-46def84a35d9"
      },
      "outputs": [
        {
          "name": "stdout",
          "output_type": "stream",
          "text": [
            "Fitting 10 folds for each of 12 candidates, totalling 120 fits\n"
          ]
        },
        {
          "data": {
            "text/plain": [
              "GridSearchCV(cv=KFold(n_splits=10, random_state=None, shuffle=False),\n",
              "             estimator=RandomForestRegressor(), n_jobs=-1,\n",
              "             param_grid={'max_depth': [10, 50, None],\n",
              "                         'min_samples_leaf': [1, 2],\n",
              "                         'n_estimators': [200, 2000]},\n",
              "             refit='mean_squared_error',\n",
              "             scoring={'mean_squared_error': make_scorer(mean_squared_error)},\n",
              "             verbose=3)"
            ]
          },
          "execution_count": 61,
          "metadata": {},
          "output_type": "execute_result"
        }
      ],
      "source": [
        "# Fit the model\n",
        "gridSearch.fit(X, y)"
      ]
    },
    {
      "cell_type": "code",
      "execution_count": null,
      "metadata": {
        "colab": {
          "base_uri": "https://localhost:8080/"
        },
        "id": "97OBie91NrUT",
        "outputId": "cd4c6ce8-c0f9-42e0-a636-ecf84b4abe8e"
      },
      "outputs": [
        {
          "data": {
            "text/plain": [
              "{'max_depth': None, 'min_samples_leaf': 2, 'n_estimators': 2000}"
            ]
          },
          "execution_count": 62,
          "metadata": {},
          "output_type": "execute_result"
        }
      ],
      "source": [
        "# Best parameters\n",
        "gridSearch.best_params_"
      ]
    },
    {
      "cell_type": "code",
      "execution_count": null,
      "metadata": {
        "colab": {
          "base_uri": "https://localhost:8080/"
        },
        "id": "L7NppiFhN_s2",
        "outputId": "dd13ff59-c99a-489f-a9ca-9688641749a7"
      },
      "outputs": [
        {
          "data": {
            "text/plain": [
              "1883.6696270594962"
            ]
          },
          "execution_count": 63,
          "metadata": {},
          "output_type": "execute_result"
        }
      ],
      "source": [
        "# Best score\n",
        "gridSearch.best_score_"
      ]
    },
    {
      "cell_type": "markdown",
      "metadata": {
        "id": "MDz7kVeFhbn6"
      },
      "source": [
        "# Step 4. \n",
        "## ‘testing’ the model on the 2 weeks of daily data\n",
        "### Evaluating expected return and sharp ratio using improvement with denoising"
      ]
    },
    {
      "cell_type": "code",
      "execution_count": null,
      "metadata": {
        "colab": {
          "base_uri": "https://localhost:8080/"
        },
        "id": "VdXB5icKhyGj",
        "outputId": "dda35dda-a6bf-4b6d-85f4-b6f49c102ff8"
      },
      "outputs": [
        {
          "name": "stdout",
          "output_type": "stream",
          "text": [
            "[*********************100%***********************]  1 of 1 completed\n",
            "[*********************100%***********************]  1 of 1 completed\n",
            "[*********************100%***********************]  1 of 1 completed\n",
            "[*********************100%***********************]  1 of 1 completed\n",
            "[*********************100%***********************]  1 of 1 completed\n",
            "                  AAPL         IBM        MSFT        BABA        TSLA\n",
            "Date                                                                  \n",
            "2020-01-02   73.683571  112.916939  156.592010  219.770004   28.684000\n",
            "2020-01-03   72.967224  112.016403  154.642166  217.000000   29.534000\n",
            "2020-01-06   73.548637  111.816292  155.041885  216.639999   30.102667\n",
            "2020-01-07   73.202728  111.891327  153.628250  217.630005   31.270666\n",
            "2020-01-08   74.380287  112.825211  156.075287  218.000000   32.809334\n",
            "...                ...         ...         ...         ...         ...\n",
            "2022-08-09  164.919998  129.470001  281.702057   91.190002  283.333344\n",
            "2022-08-10  169.240005  131.500000  288.547516   92.430000  294.356659\n",
            "2022-08-11  168.490005  132.539993  286.412048   94.870003  286.630005\n",
            "2022-08-12  172.100006  134.009995  291.291718   94.769997  300.029999\n",
            "2022-08-15  173.190002  134.929993  292.848389   94.199997  309.320007\n",
            "\n",
            "[660 rows x 5 columns]\n"
          ]
        }
      ],
      "source": [
        "!pip install yfinance --quiet\n",
        "import yfinance as yf\n",
        "# Step 4\n",
        "# Acquire the data up to Aug,16, which is the date of GWP2 \n",
        "# Only two weeks\n",
        "\n",
        "start_date = '2020-01-01'\n",
        "end_date = '2022-08-16'\n",
        "\n",
        "# Define the ticker list\n",
        "tickers_list = ['AAPL', 'IBM', 'MSFT', 'BABA','TSLA']\n",
        "\n",
        "# Create placeholder for data\n",
        "stock = pd.DataFrame(columns=tickers_list)\n",
        "\n",
        "# Fetch the data\n",
        "for ticker in tickers_list:\n",
        "    stock[ticker] = yf.download(ticker, \n",
        "                               start_date,\n",
        "                               end_date)['Adj Close']\n",
        "    \n",
        "# Print stock info\n",
        "print(stock)"
      ]
    },
    {
      "cell_type": "code",
      "execution_count": null,
      "metadata": {
        "id": "Jw9YtqEph768"
      },
      "outputs": [],
      "source": [
        "from pypfopt.expected_returns import mean_historical_return\n",
        "from pypfopt.risk_models import CovarianceShrinkage\n",
        "mu = mean_historical_return(stock)\n",
        "S = CovarianceShrinkage(stock).ledoit_wolf()"
      ]
    },
    {
      "cell_type": "code",
      "execution_count": null,
      "metadata": {
        "colab": {
          "base_uri": "https://localhost:8080/"
        },
        "id": "ARWRq4tvwBKV",
        "outputId": "e46e829d-df6d-4fdc-9d9f-6354e7b4074f"
      },
      "outputs": [
        {
          "name": "stderr",
          "output_type": "stream",
          "text": [
            "/usr/local/lib/python3.7/dist-packages/pypfopt/efficient_frontier/efficient_frontier.py:258: UserWarning: max_sharpe transforms the optimization problem so additional objectives may not work as expected.\n"
          ]
        }
      ],
      "source": [
        "from pypfopt import EfficientFrontier, objective_functions\n",
        "ef = EfficientFrontier(mu, S)\n",
        "ef.add_objective(objective_functions.L2_reg)\n",
        "weights = ef.max_sharpe()"
      ]
    },
    {
      "cell_type": "code",
      "execution_count": null,
      "metadata": {
        "colab": {
          "base_uri": "https://localhost:8080/"
        },
        "id": "JPMZ-TRNwHQ_",
        "outputId": "2fa7501d-1114-42cb-fc98-125a07f85c98"
      },
      "outputs": [
        {
          "name": "stdout",
          "output_type": "stream",
          "text": [
            "The weights of the 5 stocks should be OrderedDict([('AAPL', 0.16379), ('IBM', 0.0), ('MSFT', 0.08164), ('BABA', 0.0), ('TSLA', 0.75457)])\n"
          ]
        }
      ],
      "source": [
        "cleaned_weights = ef.clean_weights()\n",
        "ef.save_weights_to_file(\"weights.txt\")  # saves to file\n",
        "print('The weights of the 5 stocks should be',cleaned_weights)"
      ]
    },
    {
      "cell_type": "code",
      "execution_count": null,
      "metadata": {
        "colab": {
          "base_uri": "https://localhost:8080/"
        },
        "id": "0Pc1sRamwJtr",
        "outputId": "f780bf90-47b7-411f-9de0-e2760758bd93"
      },
      "outputs": [
        {
          "name": "stdout",
          "output_type": "stream",
          "text": [
            "Expected annual return: 120.4%\n",
            "Annual volatility: 59.8%\n",
            "Sharpe Ratio: 1.98\n"
          ]
        },
        {
          "data": {
            "text/plain": [
              "(1.2042077279647048, 0.5979130635473329, 1.9805684139747162)"
            ]
          },
          "execution_count": 68,
          "metadata": {},
          "output_type": "execute_result"
        }
      ],
      "source": [
        "# Expected return\n",
        "ef.portfolio_performance(verbose=True)"
      ]
    },
    {
      "cell_type": "code",
      "execution_count": null,
      "metadata": {
        "id": "ZsbVTLrlwJyv"
      },
      "outputs": [],
      "source": [
        "# If we use the same parameter for the portfolio to the date up to today(Sept, 6,2022)\n",
        "# Covariance matrix of the portfolio and we get the estimate of the covariance matrix\n",
        "corr0 = c.cov2corr(S)\n",
        "eVal01, eVec01 = c.getPCA(corr0)\n",
        "\n",
        "corr1 = c.denoisedCorr(eVal01, eVec01, nFacts0)   \n",
        "eVal1, eVec1 = c.getPCA(corr1)\n",
        "denoised_eigenvalue = np.diag(eVal1)\n",
        "corr_detoned_denoised = c.detoned_corr(corr1, eVal1, eVec1)\n",
        "eVal1_detoned, eVec1_detoned = c.getPCA(corr_detoned_denoised)\n",
        "detoned_denoised_eigenvalue = np.diag(eVal1_detoned)\n",
        "denoised_eigenvalue = np.diag(eVal1)\n",
        "eigenvalue_prior = np.diag(eVal01)"
      ]
    },
    {
      "cell_type": "code",
      "execution_count": null,
      "metadata": {
        "colab": {
          "base_uri": "https://localhost:8080/"
        },
        "id": "ks5HzQTByofH",
        "outputId": "1a79eb28-8310-4a1e-97bd-9e1b06f808e4"
      },
      "outputs": [
        {
          "name": "stdout",
          "output_type": "stream",
          "text": [
            "Expected annual return: 59.9%\n",
            "Annual volatility: 100.0%\n",
            "Sharpe Ratio: 0.58\n"
          ]
        },
        {
          "data": {
            "text/plain": [
              "(0.5993415518027381, 0.9999999999999999, 0.5793415518027382)"
            ]
          },
          "execution_count": 71,
          "metadata": {},
          "output_type": "execute_result"
        }
      ],
      "source": [
        "# The performace analysis\n",
        "ef.portfolio_performance(verbose=True)"
      ]
    },
    {
      "cell_type": "markdown",
      "metadata": {
        "id": "mbP-70HXy9zM"
      },
      "source": [
        "#### Step 4 Conclusion \n",
        "We see using training data’s covariance matrix did not improve the portfolio performance. The expected return and Sharpe ratio have dropped, while the volatility has increased.\n"
      ]
    },
    {
      "cell_type": "markdown",
      "metadata": {
        "id": "Q23g_mK7L5NQ"
      },
      "source": [
        "# Step 5\n",
        "## Questions and Answers"
      ]
    },
    {
      "cell_type": "markdown",
      "metadata": {
        "id": "u9h7U0tfMD8B"
      },
      "source": [
        "```\n",
        "1. What are the differences in performance according to these metrics for the\n",
        "different combination of improvements?\n",
        "```\n"
      ]
    },
    {
      "cell_type": "markdown",
      "metadata": {
        "id": "UBExGGKmMGF3"
      },
      "source": [
        "\n",
        "**Answer**\n",
        "\n",
        "The portfolio has shown different performances using different metrics with different combinations of these improvements. We can clearly see that the expected returns and Sharpe ratio have been improved while the volatility has decreased. Normalizing the data will generate a better result, back testing allows us to see how our strategy works using historical data. "
      ]
    },
    {
      "cell_type": "markdown",
      "metadata": {
        "id": "LEXt5K97MK8T"
      },
      "source": [
        "```\n",
        "2. What reasons might explain these differences in performances (with specific\n",
        "reference to the financial products, the historical data, the math of the model\n",
        "dynamics, etc.),\n",
        "\n",
        "```"
      ]
    },
    {
      "cell_type": "markdown",
      "metadata": {
        "id": "wRuSNsXeMPqW"
      },
      "source": [
        "**Answer** <br>\n",
        "The performance of our portfolio is clearly measured in 3 KPIs, which are; <br>\n",
        "- Expected return,\n",
        "- Annual volatility\n",
        "- Sharpe Ratio<br> \n",
        "as mentioned below;"
      ]
    },
    {
      "cell_type": "markdown",
      "metadata": {
        "id": "1fnwuG0KNCVA"
      },
      "source": [
        "![image.png](data:image/png;base64,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)"
      ]
    },
    {
      "cell_type": "markdown",
      "metadata": {
        "id": "tBJHGjx2OPyd"
      },
      "source": [
        "**Notes!** <br>\n",
        "\n",
        "1.   **Sharpe ratio** is the measure of risk-adjusted return of a financial portfolio. A portfolio with a higher Sharpe ratio is considered superior relative to its peers. \n",
        "Formula\n",
        "$$\n",
        "S_a=\\frac{E\\left[R_a-R_b\\right]}{\\sigma_a}\n",
        "$$\n",
        "$S_a=$ Sharpe ratio <br>\n",
        "$E=$ expected value <br>\n",
        "$R_a=$ asset return <br>\n",
        "$\\sigma_a=$ standard deviation of the asset excess return\n",
        "\n",
        "* A negative Sharpe ratio means the portfolio has underperformed its benchmark. All other things being equal, an investor typically prefers a higher positive Sharpe ratio as it has either higher returns or lower volatility. However, a negative Sharpe ratio can be made higher by either increasing returns (a good thing) or increasing volatility (a bad thing).\n",
        "<br><br>\n",
        "\n",
        "2.   **Annual Volatility** the relative rate at which the price of a security moves up and down. Volatility is found by calculating the annualized standard deviation of daily change in price. If the price of a stock moves up and down rapidly over short time periods, it has high volatility. If the price almost never changes, it has low volatility.\n",
        "Stock with High Volatility are also knows as High Beta stocks.\n",
        "\n",
        "$$\n",
        "\\sigma_{i, t}=\\sqrt{\\frac{1}{n-1} \\sum_1^n\\left(\\text { return }_{i, k}-\\text { mean }_{i, t}\\right)^2}$\n",
        "$$\n",
        "\n",
        "* The return $n_{i, k}$ is the daily return of stock $i$ in day $k$ of year $t$ mean $_{i, t}$ is the annual average of all daily stock returns of firm i in year $\\mathrm{t}$ $\\mathrm{n}$ is the number of trading days in year $\\mathrm{t}$\n",
        "<br><br>\n",
        "\n",
        "3.   **The expected return** is the amount of profit or loss an investor can anticipate receiving on an investment.\n",
        "An expected return is calculated by multiplying potential outcomes by the odds of them occurring and then totaling these results.\n",
        "\n",
        "$$\n",
        "\\bar{r}_a=\\gamma_f+\\beta_a\\left(r_m-r_f\\right)\n",
        "$$\n",
        "- Expected return = risk free premium $+$ Beta (expected market return - risk free premium). Investopedia\n",
        "where:\n",
        "- $r_a=$ expected return;\n",
        "- $r_f=$ the risk-free rate of return;\n",
        "- $\\beta=$ the investment's beta; and\n",
        "- $r_m=$ the expected market return\n",
        "\n"
      ]
    },
    {
      "cell_type": "markdown",
      "metadata": {
        "id": "5ENMv9ilNjFM"
      },
      "source": [
        "In addition to that, we've managed to implement the list of weighting after each improvement to examined the superiority and inferioriy of all assets under our analysis. \n",
        "Here is the list of Weighting after improvement using dinoising;"
      ]
    },
    {
      "cell_type": "markdown",
      "metadata": {
        "id": "Oy9wYdg8N9CU"
      },
      "source": [
        "![image.png](data:image/png;base64,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)"
      ]
    },
    {
      "cell_type": "markdown",
      "metadata": {
        "id": "E2vKPDelemPd"
      },
      "source": [
        "\n",
        "```\n",
        "3. In which cases, if any, does the incremental gain in performance according to the\n",
        "chosen metrics justify the additional complexity and effort of the improvements?\n",
        "```"
      ]
    },
    {
      "cell_type": "markdown",
      "metadata": {
        "id": "77NlPYqyLxUX"
      },
      "source": [
        "**Answer** <br>\n",
        "Running clustering has given us the labels which were completely changed after applying dimentionarity reduction with PCA. \n",
        "Dimensionality Reduction and PCA. Dimensionality reduction refers to reducing the number of input variables for a dataset. If your data is represented using rows and columns, such as in a spreadsheet, then the input variables are the columns that are fed as input to a model to predict the target variable. \n",
        "Dimensionality Reduction helps in data compression, and hence reduced storage space. It reduces computation time. It also helps remove redundant features, if any. Removes Correlated Features, that's why it's potentially essential in Clustering.\n",
        "\n",
        "Using expected annual return, Sharpe ratio and annual volatility, we saw how de-noising and de-toning as an improvements strategy helped in increasing the Sharpe ratio and reducing the annual volatility of our portfolio. This can be explained by how the complexity of the strategy of de-noising in stabilizing the covariance matrix which measures the inherent risk of the portfolio, this helps removes the eigenvalues that represent noise rather than useful information."
      ]
    }
  ],
  "metadata": {
    "colab": {
      "collapsed_sections": [],
      "provenance": [],
      "include_colab_link": true
    },
    "kernelspec": {
      "display_name": "Python 3 (ipykernel)",
      "language": "python",
      "name": "python3"
    },
    "language_info": {
      "codemirror_mode": {
        "name": "ipython",
        "version": 3
      },
      "file_extension": ".py",
      "mimetype": "text/x-python",
      "name": "python",
      "nbconvert_exporter": "python",
      "pygments_lexer": "ipython3",
      "version": "3.9.7"
    }
  },
  "nbformat": 4,
  "nbformat_minor": 0
}